{
  "cells": [
    {
      "cell_type": "markdown",
      "metadata": {
        "id": "view-in-github",
        "colab_type": "text"
      },
      "source": [
        "<a href=\"https://colab.research.google.com/github/PolMix/nems_ai/blob/main/Neural%20ML/Tandem.ipynb\" target=\"_parent\"><img src=\"https://colab.research.google.com/assets/colab-badge.svg\" alt=\"Open In Colab\"/></a>"
      ]
    },
    {
      "cell_type": "markdown",
      "metadata": {
        "id": "O8dVA_-fv1Xu"
      },
      "source": [
        "# Lib import"
      ]
    },
    {
      "cell_type": "code",
      "execution_count": 1,
      "metadata": {
        "id": "8vY7BQDM48iy"
      },
      "outputs": [],
      "source": [
        "import pandas as pd\n",
        "import numpy as np\n",
        "import scipy.stats as sps\n",
        "import seaborn as sns\n",
        "from copy import deepcopy\n",
        "\n",
        "import matplotlib.pyplot as plt\n",
        "from mpl_toolkits.mplot3d import axes3d  \n",
        "from matplotlib import cm\n",
        "\n",
        "import warnings\n",
        "warnings.filterwarnings('ignore')"
      ]
    },
    {
      "cell_type": "code",
      "execution_count": 2,
      "metadata": {
        "colab": {
          "base_uri": "https://localhost:8080/"
        },
        "id": "TvKwmDSQBz6o",
        "outputId": "27ba7d9c-fed0-49bf-b0ee-5d1856f0db4e"
      },
      "outputs": [
        {
          "output_type": "stream",
          "name": "stdout",
          "text": [
            "Looking in indexes: https://pypi.org/simple, https://us-python.pkg.dev/colab-wheels/public/simple/\n",
            "Collecting torchmetrics\n",
            "  Downloading torchmetrics-0.11.4-py3-none-any.whl (519 kB)\n",
            "\u001b[2K     \u001b[90m━━━━━━━━━━━━━━━━━━━━━━━━━━━━━━━━━━━━━━\u001b[0m \u001b[32m519.2/519.2 kB\u001b[0m \u001b[31m12.8 MB/s\u001b[0m eta \u001b[36m0:00:00\u001b[0m\n",
            "\u001b[?25hRequirement already satisfied: numpy>=1.17.2 in /usr/local/lib/python3.10/dist-packages (from torchmetrics) (1.22.4)\n",
            "Requirement already satisfied: torch>=1.8.1 in /usr/local/lib/python3.10/dist-packages (from torchmetrics) (2.0.1+cu118)\n",
            "Requirement already satisfied: packaging in /usr/local/lib/python3.10/dist-packages (from torchmetrics) (23.1)\n",
            "Requirement already satisfied: filelock in /usr/local/lib/python3.10/dist-packages (from torch>=1.8.1->torchmetrics) (3.12.0)\n",
            "Requirement already satisfied: typing-extensions in /usr/local/lib/python3.10/dist-packages (from torch>=1.8.1->torchmetrics) (4.5.0)\n",
            "Requirement already satisfied: sympy in /usr/local/lib/python3.10/dist-packages (from torch>=1.8.1->torchmetrics) (1.11.1)\n",
            "Requirement already satisfied: networkx in /usr/local/lib/python3.10/dist-packages (from torch>=1.8.1->torchmetrics) (3.1)\n",
            "Requirement already satisfied: jinja2 in /usr/local/lib/python3.10/dist-packages (from torch>=1.8.1->torchmetrics) (3.1.2)\n",
            "Requirement already satisfied: triton==2.0.0 in /usr/local/lib/python3.10/dist-packages (from torch>=1.8.1->torchmetrics) (2.0.0)\n",
            "Requirement already satisfied: cmake in /usr/local/lib/python3.10/dist-packages (from triton==2.0.0->torch>=1.8.1->torchmetrics) (3.25.2)\n",
            "Requirement already satisfied: lit in /usr/local/lib/python3.10/dist-packages (from triton==2.0.0->torch>=1.8.1->torchmetrics) (16.0.5)\n",
            "Requirement already satisfied: MarkupSafe>=2.0 in /usr/local/lib/python3.10/dist-packages (from jinja2->torch>=1.8.1->torchmetrics) (2.1.2)\n",
            "Requirement already satisfied: mpmath>=0.19 in /usr/local/lib/python3.10/dist-packages (from sympy->torch>=1.8.1->torchmetrics) (1.3.0)\n",
            "Installing collected packages: torchmetrics\n",
            "Successfully installed torchmetrics-0.11.4\n",
            "Looking in indexes: https://pypi.org/simple, https://us-python.pkg.dev/colab-wheels/public/simple/\n",
            "Collecting torcheval\n",
            "  Downloading torcheval-0.0.6-py3-none-any.whl (158 kB)\n",
            "\u001b[2K     \u001b[90m━━━━━━━━━━━━━━━━━━━━━━━━━━━━━━━━━━━━━━━\u001b[0m \u001b[32m158.4/158.4 kB\u001b[0m \u001b[31m5.9 MB/s\u001b[0m eta \u001b[36m0:00:00\u001b[0m\n",
            "\u001b[?25hCollecting torchtnt>=0.0.5 (from torcheval)\n",
            "  Downloading torchtnt-0.1.0-py3-none-any.whl (87 kB)\n",
            "\u001b[2K     \u001b[90m━━━━━━━━━━━━━━━━━━━━━━━━━━━━━━━━━━━━━━━━\u001b[0m \u001b[32m87.9/87.9 kB\u001b[0m \u001b[31m9.6 MB/s\u001b[0m eta \u001b[36m0:00:00\u001b[0m\n",
            "\u001b[?25hRequirement already satisfied: typing-extensions in /usr/local/lib/python3.10/dist-packages (from torcheval) (4.5.0)\n",
            "Requirement already satisfied: torch in /usr/local/lib/python3.10/dist-packages (from torchtnt>=0.0.5->torcheval) (2.0.1+cu118)\n",
            "Requirement already satisfied: numpy in /usr/local/lib/python3.10/dist-packages (from torchtnt>=0.0.5->torcheval) (1.22.4)\n",
            "Requirement already satisfied: fsspec in /usr/local/lib/python3.10/dist-packages (from torchtnt>=0.0.5->torcheval) (2023.4.0)\n",
            "Requirement already satisfied: tensorboard in /usr/local/lib/python3.10/dist-packages (from torchtnt>=0.0.5->torcheval) (2.12.2)\n",
            "Requirement already satisfied: packaging in /usr/local/lib/python3.10/dist-packages (from torchtnt>=0.0.5->torcheval) (23.1)\n",
            "Requirement already satisfied: psutil in /usr/local/lib/python3.10/dist-packages (from torchtnt>=0.0.5->torcheval) (5.9.5)\n",
            "Collecting pyre-extensions (from torchtnt>=0.0.5->torcheval)\n",
            "  Downloading pyre_extensions-0.0.30-py3-none-any.whl (12 kB)\n",
            "Requirement already satisfied: setuptools in /usr/local/lib/python3.10/dist-packages (from torchtnt>=0.0.5->torcheval) (67.7.2)\n",
            "Requirement already satisfied: tqdm in /usr/local/lib/python3.10/dist-packages (from torchtnt>=0.0.5->torcheval) (4.65.0)\n",
            "Collecting typing-inspect (from pyre-extensions->torchtnt>=0.0.5->torcheval)\n",
            "  Downloading typing_inspect-0.9.0-py3-none-any.whl (8.8 kB)\n",
            "Requirement already satisfied: absl-py>=0.4 in /usr/local/lib/python3.10/dist-packages (from tensorboard->torchtnt>=0.0.5->torcheval) (1.4.0)\n",
            "Requirement already satisfied: grpcio>=1.48.2 in /usr/local/lib/python3.10/dist-packages (from tensorboard->torchtnt>=0.0.5->torcheval) (1.54.0)\n",
            "Requirement already satisfied: google-auth<3,>=1.6.3 in /usr/local/lib/python3.10/dist-packages (from tensorboard->torchtnt>=0.0.5->torcheval) (2.17.3)\n",
            "Requirement already satisfied: google-auth-oauthlib<1.1,>=0.5 in /usr/local/lib/python3.10/dist-packages (from tensorboard->torchtnt>=0.0.5->torcheval) (1.0.0)\n",
            "Requirement already satisfied: markdown>=2.6.8 in /usr/local/lib/python3.10/dist-packages (from tensorboard->torchtnt>=0.0.5->torcheval) (3.4.3)\n",
            "Requirement already satisfied: protobuf>=3.19.6 in /usr/local/lib/python3.10/dist-packages (from tensorboard->torchtnt>=0.0.5->torcheval) (3.20.3)\n",
            "Requirement already satisfied: requests<3,>=2.21.0 in /usr/local/lib/python3.10/dist-packages (from tensorboard->torchtnt>=0.0.5->torcheval) (2.27.1)\n",
            "Requirement already satisfied: tensorboard-data-server<0.8.0,>=0.7.0 in /usr/local/lib/python3.10/dist-packages (from tensorboard->torchtnt>=0.0.5->torcheval) (0.7.0)\n",
            "Requirement already satisfied: tensorboard-plugin-wit>=1.6.0 in /usr/local/lib/python3.10/dist-packages (from tensorboard->torchtnt>=0.0.5->torcheval) (1.8.1)\n",
            "Requirement already satisfied: werkzeug>=1.0.1 in /usr/local/lib/python3.10/dist-packages (from tensorboard->torchtnt>=0.0.5->torcheval) (2.3.0)\n",
            "Requirement already satisfied: wheel>=0.26 in /usr/local/lib/python3.10/dist-packages (from tensorboard->torchtnt>=0.0.5->torcheval) (0.40.0)\n",
            "Requirement already satisfied: filelock in /usr/local/lib/python3.10/dist-packages (from torch->torchtnt>=0.0.5->torcheval) (3.12.0)\n",
            "Requirement already satisfied: sympy in /usr/local/lib/python3.10/dist-packages (from torch->torchtnt>=0.0.5->torcheval) (1.11.1)\n",
            "Requirement already satisfied: networkx in /usr/local/lib/python3.10/dist-packages (from torch->torchtnt>=0.0.5->torcheval) (3.1)\n",
            "Requirement already satisfied: jinja2 in /usr/local/lib/python3.10/dist-packages (from torch->torchtnt>=0.0.5->torcheval) (3.1.2)\n",
            "Requirement already satisfied: triton==2.0.0 in /usr/local/lib/python3.10/dist-packages (from torch->torchtnt>=0.0.5->torcheval) (2.0.0)\n",
            "Requirement already satisfied: cmake in /usr/local/lib/python3.10/dist-packages (from triton==2.0.0->torch->torchtnt>=0.0.5->torcheval) (3.25.2)\n",
            "Requirement already satisfied: lit in /usr/local/lib/python3.10/dist-packages (from triton==2.0.0->torch->torchtnt>=0.0.5->torcheval) (16.0.5)\n",
            "Requirement already satisfied: cachetools<6.0,>=2.0.0 in /usr/local/lib/python3.10/dist-packages (from google-auth<3,>=1.6.3->tensorboard->torchtnt>=0.0.5->torcheval) (5.3.0)\n",
            "Requirement already satisfied: pyasn1-modules>=0.2.1 in /usr/local/lib/python3.10/dist-packages (from google-auth<3,>=1.6.3->tensorboard->torchtnt>=0.0.5->torcheval) (0.3.0)\n",
            "Requirement already satisfied: six>=1.9.0 in /usr/local/lib/python3.10/dist-packages (from google-auth<3,>=1.6.3->tensorboard->torchtnt>=0.0.5->torcheval) (1.16.0)\n",
            "Requirement already satisfied: rsa<5,>=3.1.4 in /usr/local/lib/python3.10/dist-packages (from google-auth<3,>=1.6.3->tensorboard->torchtnt>=0.0.5->torcheval) (4.9)\n",
            "Requirement already satisfied: requests-oauthlib>=0.7.0 in /usr/local/lib/python3.10/dist-packages (from google-auth-oauthlib<1.1,>=0.5->tensorboard->torchtnt>=0.0.5->torcheval) (1.3.1)\n",
            "Requirement already satisfied: urllib3<1.27,>=1.21.1 in /usr/local/lib/python3.10/dist-packages (from requests<3,>=2.21.0->tensorboard->torchtnt>=0.0.5->torcheval) (1.26.15)\n",
            "Requirement already satisfied: certifi>=2017.4.17 in /usr/local/lib/python3.10/dist-packages (from requests<3,>=2.21.0->tensorboard->torchtnt>=0.0.5->torcheval) (2022.12.7)\n",
            "Requirement already satisfied: charset-normalizer~=2.0.0 in /usr/local/lib/python3.10/dist-packages (from requests<3,>=2.21.0->tensorboard->torchtnt>=0.0.5->torcheval) (2.0.12)\n",
            "Requirement already satisfied: idna<4,>=2.5 in /usr/local/lib/python3.10/dist-packages (from requests<3,>=2.21.0->tensorboard->torchtnt>=0.0.5->torcheval) (3.4)\n",
            "Requirement already satisfied: MarkupSafe>=2.1.1 in /usr/local/lib/python3.10/dist-packages (from werkzeug>=1.0.1->tensorboard->torchtnt>=0.0.5->torcheval) (2.1.2)\n",
            "Requirement already satisfied: mpmath>=0.19 in /usr/local/lib/python3.10/dist-packages (from sympy->torch->torchtnt>=0.0.5->torcheval) (1.3.0)\n",
            "Collecting mypy-extensions>=0.3.0 (from typing-inspect->pyre-extensions->torchtnt>=0.0.5->torcheval)\n",
            "  Downloading mypy_extensions-1.0.0-py3-none-any.whl (4.7 kB)\n",
            "Requirement already satisfied: pyasn1<0.6.0,>=0.4.6 in /usr/local/lib/python3.10/dist-packages (from pyasn1-modules>=0.2.1->google-auth<3,>=1.6.3->tensorboard->torchtnt>=0.0.5->torcheval) (0.5.0)\n",
            "Requirement already satisfied: oauthlib>=3.0.0 in /usr/local/lib/python3.10/dist-packages (from requests-oauthlib>=0.7.0->google-auth-oauthlib<1.1,>=0.5->tensorboard->torchtnt>=0.0.5->torcheval) (3.2.2)\n",
            "Installing collected packages: mypy-extensions, typing-inspect, pyre-extensions, torchtnt, torcheval\n",
            "Successfully installed mypy-extensions-1.0.0 pyre-extensions-0.0.30 torcheval-0.0.6 torchtnt-0.1.0 typing-inspect-0.9.0\n",
            "Looking in indexes: https://pypi.org/simple, https://us-python.pkg.dev/colab-wheels/public/simple/\n",
            "Collecting torchview\n",
            "  Downloading torchview-0.2.6-py3-none-any.whl (25 kB)\n",
            "Installing collected packages: torchview\n",
            "Successfully installed torchview-0.2.6\n"
          ]
        }
      ],
      "source": [
        "# Модели\n",
        "import torch\n",
        "import torch.nn as nn\n",
        "\n",
        "# Метрики качества\n",
        "from time import time\n",
        "\n",
        "from sklearn.metrics import mean_squared_error\n",
        "from torch.nn.functional import mse_loss\n",
        "\n",
        "import locale\n",
        "locale.getpreferredencoding = lambda: \"UTF-8\"\n",
        "!pip install torchmetrics\n",
        "from torchmetrics import R2Score\n",
        "\n",
        "!pip install torcheval\n",
        "from torcheval.metrics.functional import r2_score\n",
        "\n",
        "#!pip install onnx\n",
        "#!pip install hiddenlayer\n",
        "#import hiddenlayer as hl\n",
        "!pip install torchview\n",
        "from torchview import draw_graph\n",
        "import graphviz\n",
        "graphviz.set_jupyter_format('png')\n",
        "\n",
        "# Обработка датасета\n",
        "from sklearn.model_selection import train_test_split\n",
        "from torch.utils.data import Dataset, DataLoader\n",
        "\n",
        "# Нормировка датасета\n",
        "from sklearn.preprocessing import RobustScaler, StandardScaler\n",
        "\n",
        "# Удобства\n",
        "from tqdm import tqdm\n",
        "\n",
        "# Шедуллер\n",
        "from torch.optim.lr_scheduler import ReduceLROnPlateau"
      ]
    },
    {
      "cell_type": "markdown",
      "metadata": {
        "id": "eM9RWtjqDYMv"
      },
      "source": [
        "Фиксация сида:"
      ]
    },
    {
      "cell_type": "code",
      "execution_count": 3,
      "metadata": {
        "id": "yfTrwmSFDZU3"
      },
      "outputs": [],
      "source": [
        "import random\n",
        "\n",
        "def set_random_seed(seed):\n",
        "    torch.manual_seed(seed)\n",
        "    np.random.seed(seed)\n",
        "    random.seed(seed)\n",
        "\n",
        "set_random_seed(42)"
      ]
    },
    {
      "cell_type": "markdown",
      "source": [
        "Перенос модели на GPU:"
      ],
      "metadata": {
        "id": "Xds2xQuEr-6u"
      }
    },
    {
      "cell_type": "code",
      "source": [
        "device = torch.device('cuda') if torch.cuda.is_available() else torch.device('cpu')"
      ],
      "metadata": {
        "id": "8vqlUB-asB0V"
      },
      "execution_count": 4,
      "outputs": []
    },
    {
      "cell_type": "markdown",
      "metadata": {
        "id": "UtD6QTETWhmo"
      },
      "source": [
        "# Подготовка данных"
      ]
    },
    {
      "cell_type": "markdown",
      "metadata": {
        "id": "psOs7Z4dmUTW"
      },
      "source": [
        "## Скачивание данных и скриптов"
      ]
    },
    {
      "cell_type": "markdown",
      "metadata": {
        "id": "ox1OWY6l8miu"
      },
      "source": [
        "Загружаем датасет с GitHub:"
      ]
    },
    {
      "cell_type": "code",
      "execution_count": 5,
      "metadata": {
        "colab": {
          "base_uri": "https://localhost:8080/"
        },
        "id": "kLU_GGtsbqMv",
        "outputId": "71730d3f-1039-4b80-f56e-966f90a6b68c"
      },
      "outputs": [
        {
          "output_type": "stream",
          "name": "stdout",
          "text": [
            "--2023-05-31 10:06:50--  https://github.com/PolMix/nems_ai/archive/refs/heads/main.zip\n",
            "Resolving github.com (github.com)... 140.82.113.4\n",
            "Connecting to github.com (github.com)|140.82.113.4|:443... connected.\n",
            "HTTP request sent, awaiting response... 302 Found\n",
            "Location: https://codeload.github.com/PolMix/nems_ai/zip/refs/heads/main [following]\n",
            "--2023-05-31 10:06:50--  https://codeload.github.com/PolMix/nems_ai/zip/refs/heads/main\n",
            "Resolving codeload.github.com (codeload.github.com)... 140.82.113.10\n",
            "Connecting to codeload.github.com (codeload.github.com)|140.82.113.10|:443... connected.\n",
            "HTTP request sent, awaiting response... 200 OK\n",
            "Length: unspecified [application/zip]\n",
            "Saving to: ‘/tmp/data.zip’\n",
            "\n",
            "/tmp/data.zip           [       <=>          ]  15.64M  6.65MB/s    in 2.4s    \n",
            "\n",
            "2023-05-31 10:06:53 (6.65 MB/s) - ‘/tmp/data.zip’ saved [16397580]\n",
            "\n"
          ]
        }
      ],
      "source": [
        "import zipfile\n",
        "import os\n",
        "\n",
        "!wget --no-check-certificate \\\n",
        "    \"https://github.com/PolMix/nems_ai/archive/refs/heads/main.zip\" \\\n",
        "    -O \"/tmp/data.zip\"\n",
        "\n",
        "\n",
        "zip_ref = zipfile.ZipFile('/tmp/data.zip', 'r') #Opens the zip file in read mode\n",
        "zip_ref.extractall('/tmp') #Extracts the files into the /tmp folder\n",
        "zip_ref.close()"
      ]
    },
    {
      "cell_type": "code",
      "execution_count": 6,
      "metadata": {
        "colab": {
          "base_uri": "https://localhost:8080/",
          "height": 0
        },
        "id": "HYG7zZbkXzUc",
        "outputId": "5cb457fe-4feb-4aa7-fdb7-8764c5e4e2ad"
      },
      "outputs": [
        {
          "output_type": "stream",
          "name": "stdout",
          "text": [
            "/tmp/nems_ai-main/Data Processed\n"
          ]
        },
        {
          "output_type": "execute_result",
          "data": {
            "text/plain": [
              "   Beam length (um)  Beam width (nm)  Thickness_1 (nm)  Thickness_2 (nm)  \\\n",
              "0         10.666186       759.454713        192.911166         46.497924   \n",
              "1        105.195552       890.696186        209.252268         37.407275   \n",
              "2         10.310316       221.113532        195.903798         37.079461   \n",
              "3         18.683573       282.662136        207.614117         18.750307   \n",
              "4        121.747842       991.550766        102.506945         29.297485   \n",
              "\n",
              "   Temperature (K)  Distance (nm)  Gate voltage (V)  Pretension (Pa)  \\\n",
              "0        19.089801     465.822644         28.323179     9.003567e+08   \n",
              "1         3.716553     314.636835         30.305477     5.090849e+08   \n",
              "2         0.027053     251.500693         26.675832     6.351363e+08   \n",
              "3         0.496423     172.245797          2.647445     0.000000e+00   \n",
              "4         2.037235     415.471216         18.419812     8.374213e+08   \n",
              "\n",
              "   M1 Eigenfrequency (Hz)  M1 Quality factor  ...  M3 Eigenfrequency (Hz)  \\\n",
              "0            6.415102e+07       1.336133e+04  ...            2.909667e+08   \n",
              "1            2.569354e+06       7.177442e+06  ...            8.224139e+06   \n",
              "2            3.353110e+07       2.675673e+06  ...            1.267642e+08   \n",
              "3            1.049078e+07       8.772643e+06  ...            4.475571e+07   \n",
              "4            2.649739e+06       7.314592e+06  ...            8.269131e+06   \n",
              "\n",
              "   M3 Quality factor  M3 Effective mass (kg)    M3 TED (W)  \\\n",
              "0       1.143351e+04            2.560363e-15  6.037978e-22   \n",
              "1       5.740452e+06            3.281744e-14  8.720428e-28   \n",
              "2       1.891218e+06            7.206070e-16  6.788349e-28   \n",
              "3       8.332783e+06            1.623836e-15  6.849769e-28   \n",
              "4       6.082613e+06            2.259615e-14  2.331664e-28   \n",
              "\n",
              "   M3 Noise (kg^2/s^3)  M4 Eigenfrequency (Hz)  M4 Quality factor  \\\n",
              "0         3.409430e-12            3.964520e+08       1.013999e+04   \n",
              "1         1.367533e-11            1.152226e+07       5.003229e+06   \n",
              "2         2.254001e-12            1.923697e+08       1.709827e+06   \n",
              "3         2.943955e-12            7.057576e+07       8.000998e+06   \n",
              "4         2.518650e-11            1.138111e+07       5.405428e+06   \n",
              "\n",
              "   M4 Effective mass (kg)    M4 TED (W)  M4 Noise (kg^2/s^3)  \n",
              "0            8.780197e-16  3.181145e-22         4.959458e-12  \n",
              "1            3.291971e-14  1.406151e-27         1.583936e-11  \n",
              "2            7.147747e-16  1.130223e-27         2.477637e-12  \n",
              "3            1.616668e-15  1.119973e-27         3.081568e-12  \n",
              "4            2.267905e-14  3.624442e-28         2.982471e-11  \n",
              "\n",
              "[5 rows x 28 columns]"
            ],
            "text/html": [
              "\n",
              "  <div id=\"df-0bd94cec-f23b-4e07-a9fc-b675fa3aeb5f\">\n",
              "    <div class=\"colab-df-container\">\n",
              "      <div>\n",
              "<style scoped>\n",
              "    .dataframe tbody tr th:only-of-type {\n",
              "        vertical-align: middle;\n",
              "    }\n",
              "\n",
              "    .dataframe tbody tr th {\n",
              "        vertical-align: top;\n",
              "    }\n",
              "\n",
              "    .dataframe thead th {\n",
              "        text-align: right;\n",
              "    }\n",
              "</style>\n",
              "<table border=\"1\" class=\"dataframe\">\n",
              "  <thead>\n",
              "    <tr style=\"text-align: right;\">\n",
              "      <th></th>\n",
              "      <th>Beam length (um)</th>\n",
              "      <th>Beam width (nm)</th>\n",
              "      <th>Thickness_1 (nm)</th>\n",
              "      <th>Thickness_2 (nm)</th>\n",
              "      <th>Temperature (K)</th>\n",
              "      <th>Distance (nm)</th>\n",
              "      <th>Gate voltage (V)</th>\n",
              "      <th>Pretension (Pa)</th>\n",
              "      <th>M1 Eigenfrequency (Hz)</th>\n",
              "      <th>M1 Quality factor</th>\n",
              "      <th>...</th>\n",
              "      <th>M3 Eigenfrequency (Hz)</th>\n",
              "      <th>M3 Quality factor</th>\n",
              "      <th>M3 Effective mass (kg)</th>\n",
              "      <th>M3 TED (W)</th>\n",
              "      <th>M3 Noise (kg^2/s^3)</th>\n",
              "      <th>M4 Eigenfrequency (Hz)</th>\n",
              "      <th>M4 Quality factor</th>\n",
              "      <th>M4 Effective mass (kg)</th>\n",
              "      <th>M4 TED (W)</th>\n",
              "      <th>M4 Noise (kg^2/s^3)</th>\n",
              "    </tr>\n",
              "  </thead>\n",
              "  <tbody>\n",
              "    <tr>\n",
              "      <th>0</th>\n",
              "      <td>10.666186</td>\n",
              "      <td>759.454713</td>\n",
              "      <td>192.911166</td>\n",
              "      <td>46.497924</td>\n",
              "      <td>19.089801</td>\n",
              "      <td>465.822644</td>\n",
              "      <td>28.323179</td>\n",
              "      <td>9.003567e+08</td>\n",
              "      <td>6.415102e+07</td>\n",
              "      <td>1.336133e+04</td>\n",
              "      <td>...</td>\n",
              "      <td>2.909667e+08</td>\n",
              "      <td>1.143351e+04</td>\n",
              "      <td>2.560363e-15</td>\n",
              "      <td>6.037978e-22</td>\n",
              "      <td>3.409430e-12</td>\n",
              "      <td>3.964520e+08</td>\n",
              "      <td>1.013999e+04</td>\n",
              "      <td>8.780197e-16</td>\n",
              "      <td>3.181145e-22</td>\n",
              "      <td>4.959458e-12</td>\n",
              "    </tr>\n",
              "    <tr>\n",
              "      <th>1</th>\n",
              "      <td>105.195552</td>\n",
              "      <td>890.696186</td>\n",
              "      <td>209.252268</td>\n",
              "      <td>37.407275</td>\n",
              "      <td>3.716553</td>\n",
              "      <td>314.636835</td>\n",
              "      <td>30.305477</td>\n",
              "      <td>5.090849e+08</td>\n",
              "      <td>2.569354e+06</td>\n",
              "      <td>7.177442e+06</td>\n",
              "      <td>...</td>\n",
              "      <td>8.224139e+06</td>\n",
              "      <td>5.740452e+06</td>\n",
              "      <td>3.281744e-14</td>\n",
              "      <td>8.720428e-28</td>\n",
              "      <td>1.367533e-11</td>\n",
              "      <td>1.152226e+07</td>\n",
              "      <td>5.003229e+06</td>\n",
              "      <td>3.291971e-14</td>\n",
              "      <td>1.406151e-27</td>\n",
              "      <td>1.583936e-11</td>\n",
              "    </tr>\n",
              "    <tr>\n",
              "      <th>2</th>\n",
              "      <td>10.310316</td>\n",
              "      <td>221.113532</td>\n",
              "      <td>195.903798</td>\n",
              "      <td>37.079461</td>\n",
              "      <td>0.027053</td>\n",
              "      <td>251.500693</td>\n",
              "      <td>26.675832</td>\n",
              "      <td>6.351363e+08</td>\n",
              "      <td>3.353110e+07</td>\n",
              "      <td>2.675673e+06</td>\n",
              "      <td>...</td>\n",
              "      <td>1.267642e+08</td>\n",
              "      <td>1.891218e+06</td>\n",
              "      <td>7.206070e-16</td>\n",
              "      <td>6.788349e-28</td>\n",
              "      <td>2.254001e-12</td>\n",
              "      <td>1.923697e+08</td>\n",
              "      <td>1.709827e+06</td>\n",
              "      <td>7.147747e-16</td>\n",
              "      <td>1.130223e-27</td>\n",
              "      <td>2.477637e-12</td>\n",
              "    </tr>\n",
              "    <tr>\n",
              "      <th>3</th>\n",
              "      <td>18.683573</td>\n",
              "      <td>282.662136</td>\n",
              "      <td>207.614117</td>\n",
              "      <td>18.750307</td>\n",
              "      <td>0.496423</td>\n",
              "      <td>172.245797</td>\n",
              "      <td>2.647445</td>\n",
              "      <td>0.000000e+00</td>\n",
              "      <td>1.049078e+07</td>\n",
              "      <td>8.772643e+06</td>\n",
              "      <td>...</td>\n",
              "      <td>4.475571e+07</td>\n",
              "      <td>8.332783e+06</td>\n",
              "      <td>1.623836e-15</td>\n",
              "      <td>6.849769e-28</td>\n",
              "      <td>2.943955e-12</td>\n",
              "      <td>7.057576e+07</td>\n",
              "      <td>8.000998e+06</td>\n",
              "      <td>1.616668e-15</td>\n",
              "      <td>1.119973e-27</td>\n",
              "      <td>3.081568e-12</td>\n",
              "    </tr>\n",
              "    <tr>\n",
              "      <th>4</th>\n",
              "      <td>121.747842</td>\n",
              "      <td>991.550766</td>\n",
              "      <td>102.506945</td>\n",
              "      <td>29.297485</td>\n",
              "      <td>2.037235</td>\n",
              "      <td>415.471216</td>\n",
              "      <td>18.419812</td>\n",
              "      <td>8.374213e+08</td>\n",
              "      <td>2.649739e+06</td>\n",
              "      <td>7.314592e+06</td>\n",
              "      <td>...</td>\n",
              "      <td>8.269131e+06</td>\n",
              "      <td>6.082613e+06</td>\n",
              "      <td>2.259615e-14</td>\n",
              "      <td>2.331664e-28</td>\n",
              "      <td>2.518650e-11</td>\n",
              "      <td>1.138111e+07</td>\n",
              "      <td>5.405428e+06</td>\n",
              "      <td>2.267905e-14</td>\n",
              "      <td>3.624442e-28</td>\n",
              "      <td>2.982471e-11</td>\n",
              "    </tr>\n",
              "  </tbody>\n",
              "</table>\n",
              "<p>5 rows × 28 columns</p>\n",
              "</div>\n",
              "      <button class=\"colab-df-convert\" onclick=\"convertToInteractive('df-0bd94cec-f23b-4e07-a9fc-b675fa3aeb5f')\"\n",
              "              title=\"Convert this dataframe to an interactive table.\"\n",
              "              style=\"display:none;\">\n",
              "        \n",
              "  <svg xmlns=\"http://www.w3.org/2000/svg\" height=\"24px\"viewBox=\"0 0 24 24\"\n",
              "       width=\"24px\">\n",
              "    <path d=\"M0 0h24v24H0V0z\" fill=\"none\"/>\n",
              "    <path d=\"M18.56 5.44l.94 2.06.94-2.06 2.06-.94-2.06-.94-.94-2.06-.94 2.06-2.06.94zm-11 1L8.5 8.5l.94-2.06 2.06-.94-2.06-.94L8.5 2.5l-.94 2.06-2.06.94zm10 10l.94 2.06.94-2.06 2.06-.94-2.06-.94-.94-2.06-.94 2.06-2.06.94z\"/><path d=\"M17.41 7.96l-1.37-1.37c-.4-.4-.92-.59-1.43-.59-.52 0-1.04.2-1.43.59L10.3 9.45l-7.72 7.72c-.78.78-.78 2.05 0 2.83L4 21.41c.39.39.9.59 1.41.59.51 0 1.02-.2 1.41-.59l7.78-7.78 2.81-2.81c.8-.78.8-2.07 0-2.86zM5.41 20L4 18.59l7.72-7.72 1.47 1.35L5.41 20z\"/>\n",
              "  </svg>\n",
              "      </button>\n",
              "      \n",
              "  <style>\n",
              "    .colab-df-container {\n",
              "      display:flex;\n",
              "      flex-wrap:wrap;\n",
              "      gap: 12px;\n",
              "    }\n",
              "\n",
              "    .colab-df-convert {\n",
              "      background-color: #E8F0FE;\n",
              "      border: none;\n",
              "      border-radius: 50%;\n",
              "      cursor: pointer;\n",
              "      display: none;\n",
              "      fill: #1967D2;\n",
              "      height: 32px;\n",
              "      padding: 0 0 0 0;\n",
              "      width: 32px;\n",
              "    }\n",
              "\n",
              "    .colab-df-convert:hover {\n",
              "      background-color: #E2EBFA;\n",
              "      box-shadow: 0px 1px 2px rgba(60, 64, 67, 0.3), 0px 1px 3px 1px rgba(60, 64, 67, 0.15);\n",
              "      fill: #174EA6;\n",
              "    }\n",
              "\n",
              "    [theme=dark] .colab-df-convert {\n",
              "      background-color: #3B4455;\n",
              "      fill: #D2E3FC;\n",
              "    }\n",
              "\n",
              "    [theme=dark] .colab-df-convert:hover {\n",
              "      background-color: #434B5C;\n",
              "      box-shadow: 0px 1px 3px 1px rgba(0, 0, 0, 0.15);\n",
              "      filter: drop-shadow(0px 1px 2px rgba(0, 0, 0, 0.3));\n",
              "      fill: #FFFFFF;\n",
              "    }\n",
              "  </style>\n",
              "\n",
              "      <script>\n",
              "        const buttonEl =\n",
              "          document.querySelector('#df-0bd94cec-f23b-4e07-a9fc-b675fa3aeb5f button.colab-df-convert');\n",
              "        buttonEl.style.display =\n",
              "          google.colab.kernel.accessAllowed ? 'block' : 'none';\n",
              "\n",
              "        async function convertToInteractive(key) {\n",
              "          const element = document.querySelector('#df-0bd94cec-f23b-4e07-a9fc-b675fa3aeb5f');\n",
              "          const dataTable =\n",
              "            await google.colab.kernel.invokeFunction('convertToInteractive',\n",
              "                                                     [key], {});\n",
              "          if (!dataTable) return;\n",
              "\n",
              "          const docLinkHtml = 'Like what you see? Visit the ' +\n",
              "            '<a target=\"_blank\" href=https://colab.research.google.com/notebooks/data_table.ipynb>data table notebook</a>'\n",
              "            + ' to learn more about interactive tables.';\n",
              "          element.innerHTML = '';\n",
              "          dataTable['output_type'] = 'display_data';\n",
              "          await google.colab.output.renderOutput(dataTable, element);\n",
              "          const docLink = document.createElement('div');\n",
              "          docLink.innerHTML = docLinkHtml;\n",
              "          element.appendChild(docLink);\n",
              "        }\n",
              "      </script>\n",
              "    </div>\n",
              "  </div>\n",
              "  "
            ]
          },
          "metadata": {},
          "execution_count": 6
        }
      ],
      "source": [
        "%cd '/tmp/nems_ai-main/Data Processed'\n",
        "filename = 'Dataset_Processed.csv'\n",
        "df = pd.read_csv(filename)\n",
        "df = df.drop(columns='Unnamed: 0')\n",
        "df.head()"
      ]
    },
    {
      "cell_type": "markdown",
      "source": [
        "## Скейлинг"
      ],
      "metadata": {
        "id": "AyG7kA5sn9Nu"
      }
    },
    {
      "cell_type": "markdown",
      "metadata": {
        "id": "RU2ALa-UWhmq"
      },
      "source": [
        "Делаем несколько действий:\n",
        "- разбиваем датасет на тренировочную + валидационную часть и тестовую часть\n",
        "- разбиваем трен-вал датасет на X и Y данные\n",
        "- разбиваем тест датасет на X и Y данные"
      ]
    },
    {
      "cell_type": "code",
      "execution_count": 7,
      "metadata": {
        "id": "7lOOULaAWhms"
      },
      "outputs": [],
      "source": [
        "len_test = 0.2 # доля объектов на тренировку и валидацию из изначального датасета\n",
        "len_val = 0.2 # доля объектов на валидацию из трен-вал датасета\n",
        "\n",
        "df_trainval, df_test = train_test_split(df, test_size=len_test, random_state=42, shuffle=True)\n",
        "df_train, df_val = train_test_split(df_trainval, test_size=len_val, random_state=42, shuffle=True)"
      ]
    },
    {
      "cell_type": "markdown",
      "metadata": {
        "id": "CJfdFHjCwB7c"
      },
      "source": [
        "Разбиение подвыборок на X и Y данные. Внимание: здесь берутся только два первых параметра из двадцати."
      ]
    },
    {
      "cell_type": "code",
      "execution_count": 8,
      "metadata": {
        "colab": {
          "base_uri": "https://localhost:8080/"
        },
        "outputId": "0d83f863-8e2d-4323-812d-ca2c97ae629a",
        "id": "9WbZ6NllWhmy"
      },
      "outputs": [
        {
          "output_type": "stream",
          "name": "stdout",
          "text": [
            "/tmp/nems_ai-main/Scripts\n",
            "Dataset has been split into parts with the following shapes:\n",
            "x_train: (3141, 8)\n",
            "y_train: (3141, 1)\n",
            "x_val: (786, 8)\n",
            "y_val: (786, 1)\n",
            "x_test: (982, 8)\n",
            "y_test: (982, 1)\n"
          ]
        }
      ],
      "source": [
        "%cd '/tmp/nems_ai-main/Scripts'\n",
        "from dataset_preprocessing_pandas import split_df\n",
        "\n",
        "x_train, y_train = split_df(df_train, num_common=8)\n",
        "x_val, y_val = split_df(df_val, num_common=8)\n",
        "x_test, y_test = split_df(df_test, num_common=8)\n",
        "\n",
        "# Берем лишь один параметр из двадцати\n",
        "x_train, y_train = x_train.iloc[:], y_train.iloc[:, :1]\n",
        "x_val, y_val = x_val.iloc[:], y_val.iloc[:, :1]\n",
        "x_test, y_test = x_test.iloc[:], y_test.iloc[:, :1]\n",
        "\n",
        "print('Dataset has been split into parts with the following shapes:')\n",
        "print(f'x_train: {x_train.shape}')\n",
        "print(f'y_train: {y_train.shape}')\n",
        "print(f'x_val: {x_val.shape}')\n",
        "print(f'y_val: {y_val.shape}')\n",
        "print(f'x_test: {x_test.shape}')\n",
        "print(f'y_test: {y_test.shape}')"
      ]
    },
    {
      "cell_type": "code",
      "execution_count": 9,
      "metadata": {
        "colab": {
          "base_uri": "https://localhost:8080/",
          "height": 0
        },
        "id": "Qf44kNm5qosY",
        "outputId": "d74b95e0-cd95-4ad2-f74c-8e20bcac31be"
      },
      "outputs": [
        {
          "output_type": "execute_result",
          "data": {
            "text/plain": [
              "      Beam length (um)  Beam width (nm)  Thickness_1 (nm)  Thickness_2 (nm)  \\\n",
              "4153         49.308200       782.896481        188.132818         26.635533   \n",
              "3543        192.137428       518.376180        207.654824         15.361588   \n",
              "907          58.299798       519.390602        200.345532         16.901881   \n",
              "2522         65.228068       534.583721        199.844154         17.919077   \n",
              "3107        419.836754       346.292481        209.354864         44.989361   \n",
              "\n",
              "      Temperature (K)  Distance (nm)  Gate voltage (V)  Pretension (Pa)  \n",
              "4153        39.776275     218.106779         14.971359     3.142405e+08  \n",
              "3543        14.690520     358.705745         17.274668     0.000000e+00  \n",
              "907        264.175611     263.652628         23.487618     0.000000e+00  \n",
              "2522        10.055709     590.683389         30.865407     5.533608e+08  \n",
              "3107         1.196841     283.956739         17.091576     3.264575e+08  "
            ],
            "text/html": [
              "\n",
              "  <div id=\"df-1dc856f9-0090-4e28-8e05-2410547fc16a\">\n",
              "    <div class=\"colab-df-container\">\n",
              "      <div>\n",
              "<style scoped>\n",
              "    .dataframe tbody tr th:only-of-type {\n",
              "        vertical-align: middle;\n",
              "    }\n",
              "\n",
              "    .dataframe tbody tr th {\n",
              "        vertical-align: top;\n",
              "    }\n",
              "\n",
              "    .dataframe thead th {\n",
              "        text-align: right;\n",
              "    }\n",
              "</style>\n",
              "<table border=\"1\" class=\"dataframe\">\n",
              "  <thead>\n",
              "    <tr style=\"text-align: right;\">\n",
              "      <th></th>\n",
              "      <th>Beam length (um)</th>\n",
              "      <th>Beam width (nm)</th>\n",
              "      <th>Thickness_1 (nm)</th>\n",
              "      <th>Thickness_2 (nm)</th>\n",
              "      <th>Temperature (K)</th>\n",
              "      <th>Distance (nm)</th>\n",
              "      <th>Gate voltage (V)</th>\n",
              "      <th>Pretension (Pa)</th>\n",
              "    </tr>\n",
              "  </thead>\n",
              "  <tbody>\n",
              "    <tr>\n",
              "      <th>4153</th>\n",
              "      <td>49.308200</td>\n",
              "      <td>782.896481</td>\n",
              "      <td>188.132818</td>\n",
              "      <td>26.635533</td>\n",
              "      <td>39.776275</td>\n",
              "      <td>218.106779</td>\n",
              "      <td>14.971359</td>\n",
              "      <td>3.142405e+08</td>\n",
              "    </tr>\n",
              "    <tr>\n",
              "      <th>3543</th>\n",
              "      <td>192.137428</td>\n",
              "      <td>518.376180</td>\n",
              "      <td>207.654824</td>\n",
              "      <td>15.361588</td>\n",
              "      <td>14.690520</td>\n",
              "      <td>358.705745</td>\n",
              "      <td>17.274668</td>\n",
              "      <td>0.000000e+00</td>\n",
              "    </tr>\n",
              "    <tr>\n",
              "      <th>907</th>\n",
              "      <td>58.299798</td>\n",
              "      <td>519.390602</td>\n",
              "      <td>200.345532</td>\n",
              "      <td>16.901881</td>\n",
              "      <td>264.175611</td>\n",
              "      <td>263.652628</td>\n",
              "      <td>23.487618</td>\n",
              "      <td>0.000000e+00</td>\n",
              "    </tr>\n",
              "    <tr>\n",
              "      <th>2522</th>\n",
              "      <td>65.228068</td>\n",
              "      <td>534.583721</td>\n",
              "      <td>199.844154</td>\n",
              "      <td>17.919077</td>\n",
              "      <td>10.055709</td>\n",
              "      <td>590.683389</td>\n",
              "      <td>30.865407</td>\n",
              "      <td>5.533608e+08</td>\n",
              "    </tr>\n",
              "    <tr>\n",
              "      <th>3107</th>\n",
              "      <td>419.836754</td>\n",
              "      <td>346.292481</td>\n",
              "      <td>209.354864</td>\n",
              "      <td>44.989361</td>\n",
              "      <td>1.196841</td>\n",
              "      <td>283.956739</td>\n",
              "      <td>17.091576</td>\n",
              "      <td>3.264575e+08</td>\n",
              "    </tr>\n",
              "  </tbody>\n",
              "</table>\n",
              "</div>\n",
              "      <button class=\"colab-df-convert\" onclick=\"convertToInteractive('df-1dc856f9-0090-4e28-8e05-2410547fc16a')\"\n",
              "              title=\"Convert this dataframe to an interactive table.\"\n",
              "              style=\"display:none;\">\n",
              "        \n",
              "  <svg xmlns=\"http://www.w3.org/2000/svg\" height=\"24px\"viewBox=\"0 0 24 24\"\n",
              "       width=\"24px\">\n",
              "    <path d=\"M0 0h24v24H0V0z\" fill=\"none\"/>\n",
              "    <path d=\"M18.56 5.44l.94 2.06.94-2.06 2.06-.94-2.06-.94-.94-2.06-.94 2.06-2.06.94zm-11 1L8.5 8.5l.94-2.06 2.06-.94-2.06-.94L8.5 2.5l-.94 2.06-2.06.94zm10 10l.94 2.06.94-2.06 2.06-.94-2.06-.94-.94-2.06-.94 2.06-2.06.94z\"/><path d=\"M17.41 7.96l-1.37-1.37c-.4-.4-.92-.59-1.43-.59-.52 0-1.04.2-1.43.59L10.3 9.45l-7.72 7.72c-.78.78-.78 2.05 0 2.83L4 21.41c.39.39.9.59 1.41.59.51 0 1.02-.2 1.41-.59l7.78-7.78 2.81-2.81c.8-.78.8-2.07 0-2.86zM5.41 20L4 18.59l7.72-7.72 1.47 1.35L5.41 20z\"/>\n",
              "  </svg>\n",
              "      </button>\n",
              "      \n",
              "  <style>\n",
              "    .colab-df-container {\n",
              "      display:flex;\n",
              "      flex-wrap:wrap;\n",
              "      gap: 12px;\n",
              "    }\n",
              "\n",
              "    .colab-df-convert {\n",
              "      background-color: #E8F0FE;\n",
              "      border: none;\n",
              "      border-radius: 50%;\n",
              "      cursor: pointer;\n",
              "      display: none;\n",
              "      fill: #1967D2;\n",
              "      height: 32px;\n",
              "      padding: 0 0 0 0;\n",
              "      width: 32px;\n",
              "    }\n",
              "\n",
              "    .colab-df-convert:hover {\n",
              "      background-color: #E2EBFA;\n",
              "      box-shadow: 0px 1px 2px rgba(60, 64, 67, 0.3), 0px 1px 3px 1px rgba(60, 64, 67, 0.15);\n",
              "      fill: #174EA6;\n",
              "    }\n",
              "\n",
              "    [theme=dark] .colab-df-convert {\n",
              "      background-color: #3B4455;\n",
              "      fill: #D2E3FC;\n",
              "    }\n",
              "\n",
              "    [theme=dark] .colab-df-convert:hover {\n",
              "      background-color: #434B5C;\n",
              "      box-shadow: 0px 1px 3px 1px rgba(0, 0, 0, 0.15);\n",
              "      filter: drop-shadow(0px 1px 2px rgba(0, 0, 0, 0.3));\n",
              "      fill: #FFFFFF;\n",
              "    }\n",
              "  </style>\n",
              "\n",
              "      <script>\n",
              "        const buttonEl =\n",
              "          document.querySelector('#df-1dc856f9-0090-4e28-8e05-2410547fc16a button.colab-df-convert');\n",
              "        buttonEl.style.display =\n",
              "          google.colab.kernel.accessAllowed ? 'block' : 'none';\n",
              "\n",
              "        async function convertToInteractive(key) {\n",
              "          const element = document.querySelector('#df-1dc856f9-0090-4e28-8e05-2410547fc16a');\n",
              "          const dataTable =\n",
              "            await google.colab.kernel.invokeFunction('convertToInteractive',\n",
              "                                                     [key], {});\n",
              "          if (!dataTable) return;\n",
              "\n",
              "          const docLinkHtml = 'Like what you see? Visit the ' +\n",
              "            '<a target=\"_blank\" href=https://colab.research.google.com/notebooks/data_table.ipynb>data table notebook</a>'\n",
              "            + ' to learn more about interactive tables.';\n",
              "          element.innerHTML = '';\n",
              "          dataTable['output_type'] = 'display_data';\n",
              "          await google.colab.output.renderOutput(dataTable, element);\n",
              "          const docLink = document.createElement('div');\n",
              "          docLink.innerHTML = docLinkHtml;\n",
              "          element.appendChild(docLink);\n",
              "        }\n",
              "      </script>\n",
              "    </div>\n",
              "  </div>\n",
              "  "
            ]
          },
          "metadata": {},
          "execution_count": 9
        }
      ],
      "source": [
        "x_test.head()"
      ]
    },
    {
      "cell_type": "code",
      "execution_count": 10,
      "metadata": {
        "colab": {
          "base_uri": "https://localhost:8080/",
          "height": 0
        },
        "outputId": "7abbde97-6d66-42f8-af2e-8b80f75f14c5",
        "id": "e0x3Opj6Whm3"
      },
      "outputs": [
        {
          "output_type": "execute_result",
          "data": {
            "text/plain": [
              "      M1 Eigenfrequency (Hz)\n",
              "3781            8.234588e+05\n",
              "2200            3.620573e+07\n",
              "4798            4.018177e+06\n",
              "963             4.495736e+07\n",
              "3965            3.016408e+06"
            ],
            "text/html": [
              "\n",
              "  <div id=\"df-39bdf932-bcdd-4810-907d-badf44c2d32c\">\n",
              "    <div class=\"colab-df-container\">\n",
              "      <div>\n",
              "<style scoped>\n",
              "    .dataframe tbody tr th:only-of-type {\n",
              "        vertical-align: middle;\n",
              "    }\n",
              "\n",
              "    .dataframe tbody tr th {\n",
              "        vertical-align: top;\n",
              "    }\n",
              "\n",
              "    .dataframe thead th {\n",
              "        text-align: right;\n",
              "    }\n",
              "</style>\n",
              "<table border=\"1\" class=\"dataframe\">\n",
              "  <thead>\n",
              "    <tr style=\"text-align: right;\">\n",
              "      <th></th>\n",
              "      <th>M1 Eigenfrequency (Hz)</th>\n",
              "    </tr>\n",
              "  </thead>\n",
              "  <tbody>\n",
              "    <tr>\n",
              "      <th>3781</th>\n",
              "      <td>8.234588e+05</td>\n",
              "    </tr>\n",
              "    <tr>\n",
              "      <th>2200</th>\n",
              "      <td>3.620573e+07</td>\n",
              "    </tr>\n",
              "    <tr>\n",
              "      <th>4798</th>\n",
              "      <td>4.018177e+06</td>\n",
              "    </tr>\n",
              "    <tr>\n",
              "      <th>963</th>\n",
              "      <td>4.495736e+07</td>\n",
              "    </tr>\n",
              "    <tr>\n",
              "      <th>3965</th>\n",
              "      <td>3.016408e+06</td>\n",
              "    </tr>\n",
              "  </tbody>\n",
              "</table>\n",
              "</div>\n",
              "      <button class=\"colab-df-convert\" onclick=\"convertToInteractive('df-39bdf932-bcdd-4810-907d-badf44c2d32c')\"\n",
              "              title=\"Convert this dataframe to an interactive table.\"\n",
              "              style=\"display:none;\">\n",
              "        \n",
              "  <svg xmlns=\"http://www.w3.org/2000/svg\" height=\"24px\"viewBox=\"0 0 24 24\"\n",
              "       width=\"24px\">\n",
              "    <path d=\"M0 0h24v24H0V0z\" fill=\"none\"/>\n",
              "    <path d=\"M18.56 5.44l.94 2.06.94-2.06 2.06-.94-2.06-.94-.94-2.06-.94 2.06-2.06.94zm-11 1L8.5 8.5l.94-2.06 2.06-.94-2.06-.94L8.5 2.5l-.94 2.06-2.06.94zm10 10l.94 2.06.94-2.06 2.06-.94-2.06-.94-.94-2.06-.94 2.06-2.06.94z\"/><path d=\"M17.41 7.96l-1.37-1.37c-.4-.4-.92-.59-1.43-.59-.52 0-1.04.2-1.43.59L10.3 9.45l-7.72 7.72c-.78.78-.78 2.05 0 2.83L4 21.41c.39.39.9.59 1.41.59.51 0 1.02-.2 1.41-.59l7.78-7.78 2.81-2.81c.8-.78.8-2.07 0-2.86zM5.41 20L4 18.59l7.72-7.72 1.47 1.35L5.41 20z\"/>\n",
              "  </svg>\n",
              "      </button>\n",
              "      \n",
              "  <style>\n",
              "    .colab-df-container {\n",
              "      display:flex;\n",
              "      flex-wrap:wrap;\n",
              "      gap: 12px;\n",
              "    }\n",
              "\n",
              "    .colab-df-convert {\n",
              "      background-color: #E8F0FE;\n",
              "      border: none;\n",
              "      border-radius: 50%;\n",
              "      cursor: pointer;\n",
              "      display: none;\n",
              "      fill: #1967D2;\n",
              "      height: 32px;\n",
              "      padding: 0 0 0 0;\n",
              "      width: 32px;\n",
              "    }\n",
              "\n",
              "    .colab-df-convert:hover {\n",
              "      background-color: #E2EBFA;\n",
              "      box-shadow: 0px 1px 2px rgba(60, 64, 67, 0.3), 0px 1px 3px 1px rgba(60, 64, 67, 0.15);\n",
              "      fill: #174EA6;\n",
              "    }\n",
              "\n",
              "    [theme=dark] .colab-df-convert {\n",
              "      background-color: #3B4455;\n",
              "      fill: #D2E3FC;\n",
              "    }\n",
              "\n",
              "    [theme=dark] .colab-df-convert:hover {\n",
              "      background-color: #434B5C;\n",
              "      box-shadow: 0px 1px 3px 1px rgba(0, 0, 0, 0.15);\n",
              "      filter: drop-shadow(0px 1px 2px rgba(0, 0, 0, 0.3));\n",
              "      fill: #FFFFFF;\n",
              "    }\n",
              "  </style>\n",
              "\n",
              "      <script>\n",
              "        const buttonEl =\n",
              "          document.querySelector('#df-39bdf932-bcdd-4810-907d-badf44c2d32c button.colab-df-convert');\n",
              "        buttonEl.style.display =\n",
              "          google.colab.kernel.accessAllowed ? 'block' : 'none';\n",
              "\n",
              "        async function convertToInteractive(key) {\n",
              "          const element = document.querySelector('#df-39bdf932-bcdd-4810-907d-badf44c2d32c');\n",
              "          const dataTable =\n",
              "            await google.colab.kernel.invokeFunction('convertToInteractive',\n",
              "                                                     [key], {});\n",
              "          if (!dataTable) return;\n",
              "\n",
              "          const docLinkHtml = 'Like what you see? Visit the ' +\n",
              "            '<a target=\"_blank\" href=https://colab.research.google.com/notebooks/data_table.ipynb>data table notebook</a>'\n",
              "            + ' to learn more about interactive tables.';\n",
              "          element.innerHTML = '';\n",
              "          dataTable['output_type'] = 'display_data';\n",
              "          await google.colab.output.renderOutput(dataTable, element);\n",
              "          const docLink = document.createElement('div');\n",
              "          docLink.innerHTML = docLinkHtml;\n",
              "          element.appendChild(docLink);\n",
              "        }\n",
              "      </script>\n",
              "    </div>\n",
              "  </div>\n",
              "  "
            ]
          },
          "metadata": {},
          "execution_count": 10
        }
      ],
      "source": [
        "y_train.head()"
      ]
    },
    {
      "cell_type": "markdown",
      "metadata": {
        "id": "Jns9GBP0Whm5"
      },
      "source": [
        "Выполняем логарифмирование и скейлинг:"
      ]
    },
    {
      "cell_type": "code",
      "execution_count": 11,
      "metadata": {
        "id": "aiCU1RsZWhm7"
      },
      "outputs": [],
      "source": [
        "from dataset_preprocessing_pandas import Scaler as Scaler\n",
        "\n",
        "scaler_x = StandardScaler()\n",
        "scaler_y = StandardScaler()\n",
        "\n",
        "mode_number = 1\n",
        "log_params = ['Eigenfrequency (Hz)']\n",
        "s = Scaler(scaler_x, scaler_y, mode_number)\n",
        "s.fit(x_train, y_train, log_params)\n",
        "\n",
        "x_train, y_train = s.transform(x_train, y_train)\n",
        "x_val, y_val = s.transform(x_val, y_val)\n",
        "x_test, y_test = s.transform(x_test, y_test)"
      ]
    },
    {
      "cell_type": "code",
      "execution_count": 12,
      "metadata": {
        "colab": {
          "base_uri": "https://localhost:8080/",
          "height": 0
        },
        "outputId": "77ee16b6-1315-433a-8a13-ca3f965b0d49",
        "id": "SwD7PAl7Whm9"
      },
      "outputs": [
        {
          "output_type": "execute_result",
          "data": {
            "text/plain": [
              "       M1 Eigenfrequency (Hz)\n",
              "count              982.000000\n",
              "mean                 0.008397\n",
              "std                  0.988296\n",
              "min                 -2.210503\n",
              "25%                 -0.764214\n",
              "50%                 -0.023415\n",
              "75%                  0.712678\n",
              "max                  2.345348"
            ],
            "text/html": [
              "\n",
              "  <div id=\"df-21550c21-7698-4d7f-a4dc-cb0301ce1e8c\">\n",
              "    <div class=\"colab-df-container\">\n",
              "      <div>\n",
              "<style scoped>\n",
              "    .dataframe tbody tr th:only-of-type {\n",
              "        vertical-align: middle;\n",
              "    }\n",
              "\n",
              "    .dataframe tbody tr th {\n",
              "        vertical-align: top;\n",
              "    }\n",
              "\n",
              "    .dataframe thead th {\n",
              "        text-align: right;\n",
              "    }\n",
              "</style>\n",
              "<table border=\"1\" class=\"dataframe\">\n",
              "  <thead>\n",
              "    <tr style=\"text-align: right;\">\n",
              "      <th></th>\n",
              "      <th>M1 Eigenfrequency (Hz)</th>\n",
              "    </tr>\n",
              "  </thead>\n",
              "  <tbody>\n",
              "    <tr>\n",
              "      <th>count</th>\n",
              "      <td>982.000000</td>\n",
              "    </tr>\n",
              "    <tr>\n",
              "      <th>mean</th>\n",
              "      <td>0.008397</td>\n",
              "    </tr>\n",
              "    <tr>\n",
              "      <th>std</th>\n",
              "      <td>0.988296</td>\n",
              "    </tr>\n",
              "    <tr>\n",
              "      <th>min</th>\n",
              "      <td>-2.210503</td>\n",
              "    </tr>\n",
              "    <tr>\n",
              "      <th>25%</th>\n",
              "      <td>-0.764214</td>\n",
              "    </tr>\n",
              "    <tr>\n",
              "      <th>50%</th>\n",
              "      <td>-0.023415</td>\n",
              "    </tr>\n",
              "    <tr>\n",
              "      <th>75%</th>\n",
              "      <td>0.712678</td>\n",
              "    </tr>\n",
              "    <tr>\n",
              "      <th>max</th>\n",
              "      <td>2.345348</td>\n",
              "    </tr>\n",
              "  </tbody>\n",
              "</table>\n",
              "</div>\n",
              "      <button class=\"colab-df-convert\" onclick=\"convertToInteractive('df-21550c21-7698-4d7f-a4dc-cb0301ce1e8c')\"\n",
              "              title=\"Convert this dataframe to an interactive table.\"\n",
              "              style=\"display:none;\">\n",
              "        \n",
              "  <svg xmlns=\"http://www.w3.org/2000/svg\" height=\"24px\"viewBox=\"0 0 24 24\"\n",
              "       width=\"24px\">\n",
              "    <path d=\"M0 0h24v24H0V0z\" fill=\"none\"/>\n",
              "    <path d=\"M18.56 5.44l.94 2.06.94-2.06 2.06-.94-2.06-.94-.94-2.06-.94 2.06-2.06.94zm-11 1L8.5 8.5l.94-2.06 2.06-.94-2.06-.94L8.5 2.5l-.94 2.06-2.06.94zm10 10l.94 2.06.94-2.06 2.06-.94-2.06-.94-.94-2.06-.94 2.06-2.06.94z\"/><path d=\"M17.41 7.96l-1.37-1.37c-.4-.4-.92-.59-1.43-.59-.52 0-1.04.2-1.43.59L10.3 9.45l-7.72 7.72c-.78.78-.78 2.05 0 2.83L4 21.41c.39.39.9.59 1.41.59.51 0 1.02-.2 1.41-.59l7.78-7.78 2.81-2.81c.8-.78.8-2.07 0-2.86zM5.41 20L4 18.59l7.72-7.72 1.47 1.35L5.41 20z\"/>\n",
              "  </svg>\n",
              "      </button>\n",
              "      \n",
              "  <style>\n",
              "    .colab-df-container {\n",
              "      display:flex;\n",
              "      flex-wrap:wrap;\n",
              "      gap: 12px;\n",
              "    }\n",
              "\n",
              "    .colab-df-convert {\n",
              "      background-color: #E8F0FE;\n",
              "      border: none;\n",
              "      border-radius: 50%;\n",
              "      cursor: pointer;\n",
              "      display: none;\n",
              "      fill: #1967D2;\n",
              "      height: 32px;\n",
              "      padding: 0 0 0 0;\n",
              "      width: 32px;\n",
              "    }\n",
              "\n",
              "    .colab-df-convert:hover {\n",
              "      background-color: #E2EBFA;\n",
              "      box-shadow: 0px 1px 2px rgba(60, 64, 67, 0.3), 0px 1px 3px 1px rgba(60, 64, 67, 0.15);\n",
              "      fill: #174EA6;\n",
              "    }\n",
              "\n",
              "    [theme=dark] .colab-df-convert {\n",
              "      background-color: #3B4455;\n",
              "      fill: #D2E3FC;\n",
              "    }\n",
              "\n",
              "    [theme=dark] .colab-df-convert:hover {\n",
              "      background-color: #434B5C;\n",
              "      box-shadow: 0px 1px 3px 1px rgba(0, 0, 0, 0.15);\n",
              "      filter: drop-shadow(0px 1px 2px rgba(0, 0, 0, 0.3));\n",
              "      fill: #FFFFFF;\n",
              "    }\n",
              "  </style>\n",
              "\n",
              "      <script>\n",
              "        const buttonEl =\n",
              "          document.querySelector('#df-21550c21-7698-4d7f-a4dc-cb0301ce1e8c button.colab-df-convert');\n",
              "        buttonEl.style.display =\n",
              "          google.colab.kernel.accessAllowed ? 'block' : 'none';\n",
              "\n",
              "        async function convertToInteractive(key) {\n",
              "          const element = document.querySelector('#df-21550c21-7698-4d7f-a4dc-cb0301ce1e8c');\n",
              "          const dataTable =\n",
              "            await google.colab.kernel.invokeFunction('convertToInteractive',\n",
              "                                                     [key], {});\n",
              "          if (!dataTable) return;\n",
              "\n",
              "          const docLinkHtml = 'Like what you see? Visit the ' +\n",
              "            '<a target=\"_blank\" href=https://colab.research.google.com/notebooks/data_table.ipynb>data table notebook</a>'\n",
              "            + ' to learn more about interactive tables.';\n",
              "          element.innerHTML = '';\n",
              "          dataTable['output_type'] = 'display_data';\n",
              "          await google.colab.output.renderOutput(dataTable, element);\n",
              "          const docLink = document.createElement('div');\n",
              "          docLink.innerHTML = docLinkHtml;\n",
              "          element.appendChild(docLink);\n",
              "        }\n",
              "      </script>\n",
              "    </div>\n",
              "  </div>\n",
              "  "
            ]
          },
          "metadata": {},
          "execution_count": 12
        }
      ],
      "source": [
        "y_test.describe()"
      ]
    },
    {
      "cell_type": "markdown",
      "metadata": {
        "id": "_cp3JPZpq_8y"
      },
      "source": [
        "## Визуализация распределения нормированных параметров"
      ]
    },
    {
      "cell_type": "code",
      "source": [
        "from classic_ml import plot_distribution\n",
        "\n",
        "plot_distribution(df=y_train, param_name='Eigenfrequency (Hz)',\n",
        "                  log_scale=False, font_size=0.25, modes=[1])"
      ],
      "metadata": {
        "colab": {
          "base_uri": "https://localhost:8080/",
          "height": 0
        },
        "id": "LBo5IxvBBcKL",
        "outputId": "0daa121d-5500-43a4-d9b2-d3148c71dfd2"
      },
      "execution_count": 13,
      "outputs": [
        {
          "output_type": "display_data",
          "data": {
            "text/plain": [
              "<Figure size 500x500 with 1 Axes>"
            ],
            "image/png": "[encoded data removed]"
          },
          "metadata": {}
        }
      ]
    },
    {
      "cell_type": "markdown",
      "metadata": {
        "id": "uLb6fN6nG2S2"
      },
      "source": [
        "## Формирование подвыборок"
      ]
    },
    {
      "cell_type": "markdown",
      "metadata": {
        "id": "3ZJJC3zbHByf"
      },
      "source": [
        "Определение подвыборок и даталоадеров:"
      ]
    },
    {
      "cell_type": "code",
      "execution_count": 14,
      "metadata": {
        "id": "84dxrBmk3k6J"
      },
      "outputs": [],
      "source": [
        "from dataset_preprocessing_torch import CustomDataset\n",
        "\n",
        "trainset = CustomDataset(x_train, y_train)\n",
        "valset = CustomDataset(x_val, y_val)\n",
        "testset = CustomDataset(x_test, y_test)\n",
        "\n",
        "batch_size = 64\n",
        "\n",
        "train_loader = DataLoader(trainset, batch_size=batch_size, shuffle=True, num_workers=2)\n",
        "val_loader = DataLoader(valset, batch_size=batch_size, shuffle=False, num_workers=2)\n",
        "test_loader = DataLoader(testset, batch_size=batch_size, shuffle=False, num_workers=2)"
      ]
    },
    {
      "cell_type": "code",
      "execution_count": 15,
      "metadata": {
        "colab": {
          "base_uri": "https://localhost:8080/"
        },
        "id": "xOTalZb4cexb",
        "outputId": "ce647c3a-fb63-45b6-9ff0-125046458316"
      },
      "outputs": [
        {
          "output_type": "stream",
          "name": "stdout",
          "text": [
            "50\n"
          ]
        }
      ],
      "source": [
        "print(len(train_loader))"
      ]
    },
    {
      "cell_type": "markdown",
      "metadata": {
        "id": "0pe-f4mkKkTI"
      },
      "source": [
        "# Forward модель (Fully Connected)"
      ]
    },
    {
      "cell_type": "code",
      "execution_count": 16,
      "metadata": {
        "id": "TZNJrmq4M0aH"
      },
      "outputs": [],
      "source": [
        "num_pars_x = x_train.shape[1]\n",
        "num_pars_y = y_train.shape[1]\n",
        "\n",
        "class FCNetwork(nn.Module):\n",
        "    def __init__(self):\n",
        "        super().__init__()\n",
        "        self.network = nn.Sequential(\n",
        "            nn.Linear(in_features=num_pars_x, out_features=1000, bias=False),\n",
        "            nn.BatchNorm1d(num_features=1000),\n",
        "            nn.ReLU(),\n",
        "            nn.Linear(in_features=1000, out_features=200, bias=False),\n",
        "            nn.BatchNorm1d(num_features=200),\n",
        "            nn.ReLU(),\n",
        "            nn.Linear(in_features=200, out_features=num_pars_y, bias=True),\n",
        "        )\n",
        "    \n",
        "    def forward(self, x):\n",
        "        out = self.network(x)\n",
        "        return out\n",
        "    \n",
        "    def init(self):\n",
        "        relu_gain = torch.nn.init.calculate_gain('relu')\n",
        "        for child in self.children():\n",
        "            if isinstance(child, nn.Linear):\n",
        "                if self.init_form == \"normal\":\n",
        "                    torch.nn.init.kaiming_normal_(child.weight)\n",
        "                    \n",
        "                    if child.bias is not None:\n",
        "                        torch.nn.init.zeros_(child.bias)\n",
        "                elif self.init_form == \"uniform\":\n",
        "                    torch.nn.init.kaiming_uniform_(child.weight)\n",
        "                    \n",
        "                    if child.bias is not None:\n",
        "                        torch.nn.init.zeros_(child.bias)\n",
        "                else:\n",
        "                    raise NotImplementedError()"
      ]
    },
    {
      "cell_type": "code",
      "source": [
        "from neural_ml import train_mlp\n",
        "\n",
        "param_names = ['M1 Eigenfrequency (Hz)']\n",
        "plot_param = 'M1 Eigenfrequency (Hz)'\n",
        "num_epochs = 50\n",
        "\n",
        "model_mlp = FCNetwork().to(device)\n",
        "optimizer = torch.optim.Adam(model_mlp.parameters(), lr=1e-3)\n",
        "criterion = nn.MSELoss()\n",
        "scheduler = ReduceLROnPlateau(optimizer=optimizer, mode='min', threshold=1e-8, verbose=True)\n",
        "pp_mlp = train_mlp(model_mlp, train_loader, val_loader, \n",
        "                   criterion, optimizer, scheduler,\n",
        "                   num_epochs, param_names, plot_param)"
      ],
      "metadata": {
        "colab": {
          "base_uri": "https://localhost:8080/",
          "height": 0
        },
        "id": "kRvRv0wCVPRo",
        "outputId": "aad67efc-07fd-46b8-ce97-208ad597702f"
      },
      "execution_count": 17,
      "outputs": [
        {
          "output_type": "display_data",
          "data": {
            "text/plain": [
              "<Figure size 1200x600 with 2 Axes>"
            ],
            "image/png": "[encoded data removed]"
          },
          "metadata": {}
        },
        {
          "output_type": "stream",
          "name": "stdout",
          "text": [
            "Epoch 00042: reducing learning rate of group 0 to 1.0000e-04.\n"
          ]
        }
      ]
    },
    {
      "cell_type": "markdown",
      "metadata": {
        "id": "WnPemynycxBt"
      },
      "source": [
        "Проверка на тестовом датасете:"
      ]
    },
    {
      "cell_type": "code",
      "execution_count": 18,
      "metadata": {
        "colab": {
          "base_uri": "https://localhost:8080/"
        },
        "id": "Cdq-3NEkcYk6",
        "outputId": "1071d11f-93ff-4325-9454-b19020aa8675"
      },
      "outputs": [
        {
          "output_type": "stream",
          "name": "stdout",
          "text": [
            "{'M1 Eigenfrequency (Hz)': [0.004204047378152609, 0.9956914186477661]}\n"
          ]
        }
      ],
      "source": [
        "from neural_ml import get_readable_metrics_mlp\n",
        "\n",
        "print(get_readable_metrics_mlp(model=model_mlp, data_loader=test_loader, param_names=param_names))"
      ]
    },
    {
      "cell_type": "markdown",
      "source": [
        "Оценка времени работы нейросетевой модели:"
      ],
      "metadata": {
        "id": "KGNsjHc_E9bB"
      }
    },
    {
      "cell_type": "code",
      "source": [
        "from neural_ml import get_elapsed_time_mlp\n",
        "\n",
        "print(get_elapsed_time_mlp(model=model_mlp, data_loader=train_loader, num_samples=200))"
      ],
      "metadata": {
        "colab": {
          "base_uri": "https://localhost:8080/"
        },
        "id": "Xm6Xc1GZFCFF",
        "outputId": "e569b629-daaf-46a3-f370-cb4282d967d9"
      },
      "execution_count": 19,
      "outputs": [
        {
          "output_type": "stream",
          "name": "stdout",
          "text": [
            "0.006554841995239258\n"
          ]
        }
      ]
    },
    {
      "cell_type": "markdown",
      "source": [
        "# Тандем нейросетей"
      ],
      "metadata": {
        "id": "oE4_n17io8mK"
      }
    },
    {
      "cell_type": "markdown",
      "source": [
        "### Сборка inverse-модели:"
      ],
      "metadata": {
        "id": "7_lQDeM_8BRf"
      }
    },
    {
      "cell_type": "code",
      "source": [
        "class InverseFC(nn.Module):\n",
        "    def __init__(self):\n",
        "        super().__init__()\n",
        "        self.network = nn.Sequential(\n",
        "            nn.Linear(in_features=num_pars_y, out_features=200, bias=False),\n",
        "            nn.BatchNorm1d(num_features=200),\n",
        "            nn.ReLU(),\n",
        "            nn.Linear(in_features=200, out_features=1000, bias=False),\n",
        "            nn.BatchNorm1d(num_features=1000),\n",
        "            nn.ReLU(),\n",
        "            nn.Linear(in_features=1000, out_features=num_pars_x, bias=True),\n",
        "        )\n",
        "    \n",
        "    def forward(self, x):\n",
        "        out = self.network(x)\n",
        "        return out\n",
        "    \n",
        "    def init(self):\n",
        "        relu_gain = torch.nn.init.calculate_gain('relu')\n",
        "        for child in self.children():\n",
        "            if isinstance(child, nn.Linear):\n",
        "                if self.init_form == \"normal\":\n",
        "                    torch.nn.init.kaiming_normal_(child.weight)\n",
        "                    \n",
        "                    if child.bias is not None:\n",
        "                        torch.nn.init.zeros_(child.bias)\n",
        "                elif self.init_form == \"uniform\":\n",
        "                    torch.nn.init.kaiming_uniform_(child.weight)\n",
        "                    \n",
        "                    if child.bias is not None:\n",
        "                        torch.nn.init.zeros_(child.bias)\n",
        "                else:\n",
        "                    raise NotImplementedError()"
      ],
      "metadata": {
        "id": "St6XGcQf8EM8"
      },
      "execution_count": 21,
      "outputs": []
    },
    {
      "cell_type": "markdown",
      "source": [
        "### Сборка inverse-модели с условием:"
      ],
      "metadata": {
        "id": "yhCaxfQNg_GH"
      }
    },
    {
      "cell_type": "code",
      "source": [
        "class CondInverseFC(nn.Module):\n",
        "    def __init__(self, fix_indices):\n",
        "        super().__init__()\n",
        "        self.fix_indices = fix_indices\n",
        "\n",
        "        self.network_var = nn.Sequential(\n",
        "            nn.Linear(in_features=num_pars_y, out_features=200, bias=False),\n",
        "            nn.BatchNorm1d(num_features=200),\n",
        "            nn.ReLU(),\n",
        "        )\n",
        "\n",
        "        self.network_fix = nn.Sequential(\n",
        "            nn.Linear(in_features=200 + len(self.fix_indices), out_features=1000, bias=False),\n",
        "            nn.BatchNorm1d(num_features=1000),\n",
        "            nn.ReLU(),\n",
        "            nn.Linear(in_features=1000, out_features=num_pars_x, bias=True),\n",
        "        )\n",
        "\n",
        "    \n",
        "    def forward(self, y, x_fix):\n",
        "        # Part of the network that doesn't know about fixed params\n",
        "        out = self.network_var(y)\n",
        "\n",
        "        out = torch.cat((out, x_fix), dim=1)\n",
        "\n",
        "        # Adding fixed params to the net\n",
        "        out = self.network_fix(out)\n",
        "\n",
        "        # Replacing conditional parameters\n",
        "        out[:, self.fix_indices] = x_fix\n",
        "        \n",
        "        return out\n",
        "    \n",
        "    def init(self):\n",
        "        relu_gain = torch.nn.init.calculate_gain('relu')\n",
        "        for child in self.children():\n",
        "            if isinstance(child, nn.Linear):\n",
        "                if self.init_form == \"normal\":\n",
        "                    torch.nn.init.kaiming_normal_(child.weight)\n",
        "                    \n",
        "                    if child.bias is not None:\n",
        "                        torch.nn.init.zeros_(child.bias)\n",
        "                elif self.init_form == \"uniform\":\n",
        "                    torch.nn.init.kaiming_uniform_(child.weight)\n",
        "                    \n",
        "                    if child.bias is not None:\n",
        "                        torch.nn.init.zeros_(child.bias)\n",
        "                else:\n",
        "                    raise NotImplementedError()"
      ],
      "metadata": {
        "id": "QVq_3GJLg_Gx"
      },
      "execution_count": 20,
      "outputs": []
    },
    {
      "cell_type": "markdown",
      "source": [
        "### Обучение \"безусловного\" тандема"
      ],
      "metadata": {
        "id": "6Ygh1YW479MW"
      }
    },
    {
      "cell_type": "markdown",
      "source": [
        "Обратите внимание: если вы выберете `plot_param` из X-данных, то пойдет отрисовка графиков обучения именно по этому параметру. К тому же, шедуллер будет корректировать `lr` согласно MSE-ошибке на этом самом параметре.\n",
        "\n",
        "Также, стоит отметить, что если вы выберете `plot_param` из X-данных, то вы будете отслеживать MSE и R2 на выходе из `model_inverse` (это, простым языком, \"стык\" двух моделей), а если `plot_param` $\\in$ Y-данным, то будете отслеживать MSE и R2 на выходе `model_forward`."
      ],
      "metadata": {
        "id": "bpr_Hj_kU5zk"
      }
    },
    {
      "cell_type": "code",
      "source": [
        "from neural_ml import train_tandem\n",
        "\n",
        "model_inverse = InverseFC().to(device)\n",
        "model_forward = deepcopy(model_mlp).to(device)\n",
        "optimizer = torch.optim.Adam(model_inverse.parameters(), lr=1e-3)\n",
        "criterion = nn.MSELoss()\n",
        "scheduler = ReduceLROnPlateau(optimizer=optimizer, mode='min', threshold=1e-8, verbose=True)\n",
        "\n",
        "num_epochs = 50\n",
        "param_names_y = ['M1 Eigenfrequency (Hz)']\n",
        "pp = train_tandem(model_inverse, model_forward,\n",
        "                  train_loader, val_loader, \n",
        "                  criterion, optimizer, scheduler, \n",
        "                  num_epochs, param_names_x=None, param_names_y=param_names_y,\n",
        "                  plot_param='M1 Eigenfrequency (Hz)')"
      ],
      "metadata": {
        "colab": {
          "base_uri": "https://localhost:8080/",
          "height": 0
        },
        "id": "tAyLUClF3vDg",
        "outputId": "0aa2fe71-a511-4c5d-eb50-a87c649df04d"
      },
      "execution_count": 25,
      "outputs": [
        {
          "output_type": "display_data",
          "data": {
            "text/plain": [
              "<Figure size 1200x600 with 2 Axes>"
            ],
            "image/png": "[encoded data removed]"
          },
          "metadata": {}
        },
        {
          "output_type": "stream",
          "name": "stdout",
          "text": [
            "Epoch 00043: reducing learning rate of group 0 to 1.0000e-05.\n"
          ]
        }
      ]
    },
    {
      "cell_type": "markdown",
      "source": [
        "### Обучение тандема с условием:"
      ],
      "metadata": {
        "id": "Z1FRZ_rNoyL4"
      }
    },
    {
      "cell_type": "code",
      "source": [
        "from neural_ml import train_tandem_cond\n",
        "from neural_ml import get_fix_indices\n",
        "\n",
        "param_names_x = ['Beam length (um)', 'Beam width (nm)',\n",
        "                 'Thickness_1 (nm)', 'Thickness_2 (nm)',\n",
        "                 'Temperature (K)', 'Distance (nm)',\n",
        "                 'Gate voltage (V)', 'Pretension (Pa)']\n",
        "\n",
        "fix_params = ['Thickness_1 (nm)', 'Thickness_2 (nm)',\n",
        "              'Temperature (K)', 'Distance (nm)',\n",
        "              'Gate voltage (V)', 'Pretension (Pa)']\n",
        "\n",
        "fix_indices = get_fix_indices(param_names_x, fix_params)\n",
        "\n",
        "model_inverse_cond = CondInverseFC(fix_indices).to(device)\n",
        "model_forward = deepcopy(model_mlp).to(device)\n",
        "optimizer = torch.optim.Adam(model_inverse_cond.parameters(), lr=1e-5)\n",
        "criterion = nn.MSELoss()\n",
        "scheduler = ReduceLROnPlateau(optimizer=optimizer, mode='min', threshold=1e-8, verbose=True)\n",
        "\n",
        "num_epochs = 50\n",
        "param_names_y = ['M1 Eigenfrequency (Hz)']\n",
        "pp = train_tandem_cond(model_inverse_cond, model_forward,\n",
        "                       fix_params,\n",
        "                       train_loader, val_loader, \n",
        "                       criterion, optimizer, scheduler, \n",
        "                       num_epochs, param_names_x=None, param_names_y=param_names_y,\n",
        "                       plot_param='M1 Eigenfrequency (Hz)')"
      ],
      "metadata": {
        "colab": {
          "base_uri": "https://localhost:8080/",
          "height": 624
        },
        "id": "m_WIIuNXqgSV",
        "outputId": "c19b2e0b-811f-433c-ba35-5aff99390b01"
      },
      "execution_count": 22,
      "outputs": [
        {
          "output_type": "display_data",
          "data": {
            "text/plain": [
              "<Figure size 1200x600 with 2 Axes>"
            ],
            "image/png": "[encoded data removed]"
          },
          "metadata": {}
        },
        {
          "output_type": "stream",
          "name": "stdout",
          "text": [
            "Epoch 00048: reducing learning rate of group 0 to 1.0000e-07.\n"
          ]
        }
      ]
    },
    {
      "cell_type": "markdown",
      "metadata": {
        "id": "21B26gdpZ86B"
      },
      "source": [
        "# Тестирование"
      ]
    },
    {
      "cell_type": "markdown",
      "source": [
        "Тест \"безусловного\" тандема:"
      ],
      "metadata": {
        "id": "u7LnphlxNbPQ"
      }
    },
    {
      "cell_type": "code",
      "source": [
        "param_list = [2.166e6]\n",
        "y_real = pd.DataFrame([param_list])\n",
        "y_real.columns = y_train.columns\n",
        "print(y_real)\n",
        "\n",
        "y_real = s.transform_real_y(y_real)\n",
        "print(y_real)\n",
        "y_real_torch = torch.tensor(y_real.iloc[:, :].values, dtype=torch.float32).to(device)\n",
        "\n",
        "# Подаем реальные данные на вход инверсной модели\n",
        "with torch.no_grad():\n",
        "    x_real_pred = model_inverse(y_real_torch)\n",
        "x_real_pred = pd.DataFrame(x_real_pred.detach().cpu().numpy())\n",
        "print(x_real_pred)\n",
        "\n",
        "x_real_pred, y_real = s.reverse_transform(x_real_pred, y_real, concat_required=False)\n",
        "x_real_pred = pd.DataFrame(x_real_pred)\n",
        "x_real_pred.columns = x_train.columns\n",
        "\n",
        "real_pred = pd.concat([x_real_pred, y_real], axis=1)\n",
        "real_pred.head()"
      ],
      "metadata": {
        "id": "np4reruisevm",
        "colab": {
          "base_uri": "https://localhost:8080/",
          "height": 237
        },
        "outputId": "4aff2ff5-e177-465f-d85e-b3837fa93ec6"
      },
      "execution_count": 27,
      "outputs": [
        {
          "output_type": "stream",
          "name": "stdout",
          "text": [
            "   M1 Eigenfrequency (Hz)\n",
            "0               2166000.0\n",
            "   M1 Eigenfrequency (Hz)\n",
            "0               -0.135679\n",
            "          0         1         2        3         4         5         6  \\\n",
            "0  0.495021 -3.178326 -1.370858  1.11401  0.263839  2.167722  0.255129   \n",
            "\n",
            "          7  \n",
            "0  2.719893  \n"
          ]
        },
        {
          "output_type": "execute_result",
          "data": {
            "text/plain": [
              "   Beam length (um)  Beam width (nm)  Thickness_1 (nm)  Thickness_2 (nm)  \\\n",
              "0        180.554962      -334.488739          93.63166         43.445435   \n",
              "\n",
              "   Temperature (K)  Distance (nm)  Gate voltage (V)  Pretension (Pa)  \\\n",
              "0         4.707758     664.946777         20.411591     1.341061e+09   \n",
              "\n",
              "   M1 Eigenfrequency (Hz)  \n",
              "0               2166000.0  "
            ],
            "text/html": [
              "\n",
              "  <div id=\"df-fd806c44-a487-4464-8418-d0995a83ae57\">\n",
              "    <div class=\"colab-df-container\">\n",
              "      <div>\n",
              "<style scoped>\n",
              "    .dataframe tbody tr th:only-of-type {\n",
              "        vertical-align: middle;\n",
              "    }\n",
              "\n",
              "    .dataframe tbody tr th {\n",
              "        vertical-align: top;\n",
              "    }\n",
              "\n",
              "    .dataframe thead th {\n",
              "        text-align: right;\n",
              "    }\n",
              "</style>\n",
              "<table border=\"1\" class=\"dataframe\">\n",
              "  <thead>\n",
              "    <tr style=\"text-align: right;\">\n",
              "      <th></th>\n",
              "      <th>Beam length (um)</th>\n",
              "      <th>Beam width (nm)</th>\n",
              "      <th>Thickness_1 (nm)</th>\n",
              "      <th>Thickness_2 (nm)</th>\n",
              "      <th>Temperature (K)</th>\n",
              "      <th>Distance (nm)</th>\n",
              "      <th>Gate voltage (V)</th>\n",
              "      <th>Pretension (Pa)</th>\n",
              "      <th>M1 Eigenfrequency (Hz)</th>\n",
              "    </tr>\n",
              "  </thead>\n",
              "  <tbody>\n",
              "    <tr>\n",
              "      <th>0</th>\n",
              "      <td>180.554962</td>\n",
              "      <td>-334.488739</td>\n",
              "      <td>93.63166</td>\n",
              "      <td>43.445435</td>\n",
              "      <td>4.707758</td>\n",
              "      <td>664.946777</td>\n",
              "      <td>20.411591</td>\n",
              "      <td>1.341061e+09</td>\n",
              "      <td>2166000.0</td>\n",
              "    </tr>\n",
              "  </tbody>\n",
              "</table>\n",
              "</div>\n",
              "      <button class=\"colab-df-convert\" onclick=\"convertToInteractive('df-fd806c44-a487-4464-8418-d0995a83ae57')\"\n",
              "              title=\"Convert this dataframe to an interactive table.\"\n",
              "              style=\"display:none;\">\n",
              "        \n",
              "  <svg xmlns=\"http://www.w3.org/2000/svg\" height=\"24px\"viewBox=\"0 0 24 24\"\n",
              "       width=\"24px\">\n",
              "    <path d=\"M0 0h24v24H0V0z\" fill=\"none\"/>\n",
              "    <path d=\"M18.56 5.44l.94 2.06.94-2.06 2.06-.94-2.06-.94-.94-2.06-.94 2.06-2.06.94zm-11 1L8.5 8.5l.94-2.06 2.06-.94-2.06-.94L8.5 2.5l-.94 2.06-2.06.94zm10 10l.94 2.06.94-2.06 2.06-.94-2.06-.94-.94-2.06-.94 2.06-2.06.94z\"/><path d=\"M17.41 7.96l-1.37-1.37c-.4-.4-.92-.59-1.43-.59-.52 0-1.04.2-1.43.59L10.3 9.45l-7.72 7.72c-.78.78-.78 2.05 0 2.83L4 21.41c.39.39.9.59 1.41.59.51 0 1.02-.2 1.41-.59l7.78-7.78 2.81-2.81c.8-.78.8-2.07 0-2.86zM5.41 20L4 18.59l7.72-7.72 1.47 1.35L5.41 20z\"/>\n",
              "  </svg>\n",
              "      </button>\n",
              "      \n",
              "  <style>\n",
              "    .colab-df-container {\n",
              "      display:flex;\n",
              "      flex-wrap:wrap;\n",
              "      gap: 12px;\n",
              "    }\n",
              "\n",
              "    .colab-df-convert {\n",
              "      background-color: #E8F0FE;\n",
              "      border: none;\n",
              "      border-radius: 50%;\n",
              "      cursor: pointer;\n",
              "      display: none;\n",
              "      fill: #1967D2;\n",
              "      height: 32px;\n",
              "      padding: 0 0 0 0;\n",
              "      width: 32px;\n",
              "    }\n",
              "\n",
              "    .colab-df-convert:hover {\n",
              "      background-color: #E2EBFA;\n",
              "      box-shadow: 0px 1px 2px rgba(60, 64, 67, 0.3), 0px 1px 3px 1px rgba(60, 64, 67, 0.15);\n",
              "      fill: #174EA6;\n",
              "    }\n",
              "\n",
              "    [theme=dark] .colab-df-convert {\n",
              "      background-color: #3B4455;\n",
              "      fill: #D2E3FC;\n",
              "    }\n",
              "\n",
              "    [theme=dark] .colab-df-convert:hover {\n",
              "      background-color: #434B5C;\n",
              "      box-shadow: 0px 1px 3px 1px rgba(0, 0, 0, 0.15);\n",
              "      filter: drop-shadow(0px 1px 2px rgba(0, 0, 0, 0.3));\n",
              "      fill: #FFFFFF;\n",
              "    }\n",
              "  </style>\n",
              "\n",
              "      <script>\n",
              "        const buttonEl =\n",
              "          document.querySelector('#df-fd806c44-a487-4464-8418-d0995a83ae57 button.colab-df-convert');\n",
              "        buttonEl.style.display =\n",
              "          google.colab.kernel.accessAllowed ? 'block' : 'none';\n",
              "\n",
              "        async function convertToInteractive(key) {\n",
              "          const element = document.querySelector('#df-fd806c44-a487-4464-8418-d0995a83ae57');\n",
              "          const dataTable =\n",
              "            await google.colab.kernel.invokeFunction('convertToInteractive',\n",
              "                                                     [key], {});\n",
              "          if (!dataTable) return;\n",
              "\n",
              "          const docLinkHtml = 'Like what you see? Visit the ' +\n",
              "            '<a target=\"_blank\" href=https://colab.research.google.com/notebooks/data_table.ipynb>data table notebook</a>'\n",
              "            + ' to learn more about interactive tables.';\n",
              "          element.innerHTML = '';\n",
              "          dataTable['output_type'] = 'display_data';\n",
              "          await google.colab.output.renderOutput(dataTable, element);\n",
              "          const docLink = document.createElement('div');\n",
              "          docLink.innerHTML = docLinkHtml;\n",
              "          element.appendChild(docLink);\n",
              "        }\n",
              "      </script>\n",
              "    </div>\n",
              "  </div>\n",
              "  "
            ]
          },
          "metadata": {},
          "execution_count": 27
        }
      ]
    },
    {
      "cell_type": "markdown",
      "source": [
        "Тест условного тандема:"
      ],
      "metadata": {
        "id": "CAqiF9zKNi5F"
      }
    },
    {
      "cell_type": "code",
      "source": [
        "param_list = [2.166e6]\n",
        "y_real = pd.DataFrame([param_list])\n",
        "y_real.columns = y_train.columns\n",
        "\n",
        "y_real = s.transform_real_y(y_real)\n",
        "y_real_torch = torch.tensor(y_real.iloc[:, :].values, dtype=torch.float32).to(device)\n",
        "\n",
        "#первые четыре значения в x_fix не используются\n",
        "x_fix = pd.DataFrame([[1, 1, 100, 30, 1, 600, 0, 0]])\n",
        "x_fix.columns = x_train.columns\n",
        "x_fix = s.transform_real_x(x_fix)\n",
        "x_fix = torch.tensor(x_fix.iloc[:, -6:].values, dtype=torch.float32).to(device)\n",
        "\n",
        "# Подаем реальные данные на вход инверсной модели\n",
        "with torch.no_grad():\n",
        "    x_real_pred = model_inverse_cond(y_real_torch, x_fix)\n",
        "x_real_pred = pd.DataFrame(x_real_pred.detach().cpu().numpy())\n",
        "print(x_real_pred)\n",
        "\n",
        "x_real_pred, y_real = s.reverse_transform(x_real_pred, y_real, concat_required=False)\n",
        "x_real_pred = pd.DataFrame(x_real_pred)\n",
        "x_real_pred.columns = x_train.columns\n",
        "\n",
        "real_pred = pd.concat([x_real_pred, y_real], axis=1)\n",
        "real_pred.head()"
      ],
      "metadata": {
        "id": "T1Rt8hgCckgX",
        "colab": {
          "base_uri": "https://localhost:8080/",
          "height": 167
        },
        "outputId": "c5113b98-2ecc-4fc1-b69e-37c6259d6596"
      },
      "execution_count": 23,
      "outputs": [
        {
          "output_type": "stream",
          "name": "stdout",
          "text": [
            "          0         1         2         3         4         5         6  \\\n",
            "0 -0.175637  1.155717 -1.218986 -0.037367 -0.331971  1.723854 -1.339507   \n",
            "\n",
            "          7  \n",
            "0 -1.461719  \n"
          ]
        },
        {
          "output_type": "execute_result",
          "data": {
            "text/plain": [
              "   Beam length (um)  Beam width (nm)  Thickness_1 (nm)  Thickness_2 (nm)  \\\n",
              "0         78.796539       843.435791             100.0              30.0   \n",
              "\n",
              "   Temperature (K)  Distance (nm)  Gate voltage (V)  Pretension (Pa)  \\\n",
              "0              1.0          600.0      8.514876e-07        14.848544   \n",
              "\n",
              "   M1 Eigenfrequency (Hz)  \n",
              "0               2166000.0  "
            ],
            "text/html": [
              "\n",
              "  <div id=\"df-7f854bf3-a54f-429d-ab4c-f3b5fdb7cb77\">\n",
              "    <div class=\"colab-df-container\">\n",
              "      <div>\n",
              "<style scoped>\n",
              "    .dataframe tbody tr th:only-of-type {\n",
              "        vertical-align: middle;\n",
              "    }\n",
              "\n",
              "    .dataframe tbody tr th {\n",
              "        vertical-align: top;\n",
              "    }\n",
              "\n",
              "    .dataframe thead th {\n",
              "        text-align: right;\n",
              "    }\n",
              "</style>\n",
              "<table border=\"1\" class=\"dataframe\">\n",
              "  <thead>\n",
              "    <tr style=\"text-align: right;\">\n",
              "      <th></th>\n",
              "      <th>Beam length (um)</th>\n",
              "      <th>Beam width (nm)</th>\n",
              "      <th>Thickness_1 (nm)</th>\n",
              "      <th>Thickness_2 (nm)</th>\n",
              "      <th>Temperature (K)</th>\n",
              "      <th>Distance (nm)</th>\n",
              "      <th>Gate voltage (V)</th>\n",
              "      <th>Pretension (Pa)</th>\n",
              "      <th>M1 Eigenfrequency (Hz)</th>\n",
              "    </tr>\n",
              "  </thead>\n",
              "  <tbody>\n",
              "    <tr>\n",
              "      <th>0</th>\n",
              "      <td>78.796539</td>\n",
              "      <td>843.435791</td>\n",
              "      <td>100.0</td>\n",
              "      <td>30.0</td>\n",
              "      <td>1.0</td>\n",
              "      <td>600.0</td>\n",
              "      <td>8.514876e-07</td>\n",
              "      <td>14.848544</td>\n",
              "      <td>2166000.0</td>\n",
              "    </tr>\n",
              "  </tbody>\n",
              "</table>\n",
              "</div>\n",
              "      <button class=\"colab-df-convert\" onclick=\"convertToInteractive('df-7f854bf3-a54f-429d-ab4c-f3b5fdb7cb77')\"\n",
              "              title=\"Convert this dataframe to an interactive table.\"\n",
              "              style=\"display:none;\">\n",
              "        \n",
              "  <svg xmlns=\"http://www.w3.org/2000/svg\" height=\"24px\"viewBox=\"0 0 24 24\"\n",
              "       width=\"24px\">\n",
              "    <path d=\"M0 0h24v24H0V0z\" fill=\"none\"/>\n",
              "    <path d=\"M18.56 5.44l.94 2.06.94-2.06 2.06-.94-2.06-.94-.94-2.06-.94 2.06-2.06.94zm-11 1L8.5 8.5l.94-2.06 2.06-.94-2.06-.94L8.5 2.5l-.94 2.06-2.06.94zm10 10l.94 2.06.94-2.06 2.06-.94-2.06-.94-.94-2.06-.94 2.06-2.06.94z\"/><path d=\"M17.41 7.96l-1.37-1.37c-.4-.4-.92-.59-1.43-.59-.52 0-1.04.2-1.43.59L10.3 9.45l-7.72 7.72c-.78.78-.78 2.05 0 2.83L4 21.41c.39.39.9.59 1.41.59.51 0 1.02-.2 1.41-.59l7.78-7.78 2.81-2.81c.8-.78.8-2.07 0-2.86zM5.41 20L4 18.59l7.72-7.72 1.47 1.35L5.41 20z\"/>\n",
              "  </svg>\n",
              "      </button>\n",
              "      \n",
              "  <style>\n",
              "    .colab-df-container {\n",
              "      display:flex;\n",
              "      flex-wrap:wrap;\n",
              "      gap: 12px;\n",
              "    }\n",
              "\n",
              "    .colab-df-convert {\n",
              "      background-color: #E8F0FE;\n",
              "      border: none;\n",
              "      border-radius: 50%;\n",
              "      cursor: pointer;\n",
              "      display: none;\n",
              "      fill: #1967D2;\n",
              "      height: 32px;\n",
              "      padding: 0 0 0 0;\n",
              "      width: 32px;\n",
              "    }\n",
              "\n",
              "    .colab-df-convert:hover {\n",
              "      background-color: #E2EBFA;\n",
              "      box-shadow: 0px 1px 2px rgba(60, 64, 67, 0.3), 0px 1px 3px 1px rgba(60, 64, 67, 0.15);\n",
              "      fill: #174EA6;\n",
              "    }\n",
              "\n",
              "    [theme=dark] .colab-df-convert {\n",
              "      background-color: #3B4455;\n",
              "      fill: #D2E3FC;\n",
              "    }\n",
              "\n",
              "    [theme=dark] .colab-df-convert:hover {\n",
              "      background-color: #434B5C;\n",
              "      box-shadow: 0px 1px 3px 1px rgba(0, 0, 0, 0.15);\n",
              "      filter: drop-shadow(0px 1px 2px rgba(0, 0, 0, 0.3));\n",
              "      fill: #FFFFFF;\n",
              "    }\n",
              "  </style>\n",
              "\n",
              "      <script>\n",
              "        const buttonEl =\n",
              "          document.querySelector('#df-7f854bf3-a54f-429d-ab4c-f3b5fdb7cb77 button.colab-df-convert');\n",
              "        buttonEl.style.display =\n",
              "          google.colab.kernel.accessAllowed ? 'block' : 'none';\n",
              "\n",
              "        async function convertToInteractive(key) {\n",
              "          const element = document.querySelector('#df-7f854bf3-a54f-429d-ab4c-f3b5fdb7cb77');\n",
              "          const dataTable =\n",
              "            await google.colab.kernel.invokeFunction('convertToInteractive',\n",
              "                                                     [key], {});\n",
              "          if (!dataTable) return;\n",
              "\n",
              "          const docLinkHtml = 'Like what you see? Visit the ' +\n",
              "            '<a target=\"_blank\" href=https://colab.research.google.com/notebooks/data_table.ipynb>data table notebook</a>'\n",
              "            + ' to learn more about interactive tables.';\n",
              "          element.innerHTML = '';\n",
              "          dataTable['output_type'] = 'display_data';\n",
              "          await google.colab.output.renderOutput(dataTable, element);\n",
              "          const docLink = document.createElement('div');\n",
              "          docLink.innerHTML = docLinkHtml;\n",
              "          element.appendChild(docLink);\n",
              "        }\n",
              "      </script>\n",
              "    </div>\n",
              "  </div>\n",
              "  "
            ]
          },
          "metadata": {},
          "execution_count": 23
        }
      ]
    },
    {
      "cell_type": "markdown",
      "source": [
        "В реальном эксперименте такой резонансной частоте соответствует длина нанопровода $L = 70$ мкм."
      ],
      "metadata": {
        "id": "IqvAKUoHNmW_"
      }
    }
  ],
  "metadata": {
    "colab": {
      "collapsed_sections": [
        "O8dVA_-fv1Xu",
        "UtD6QTETWhmo",
        "psOs7Z4dmUTW",
        "AyG7kA5sn9Nu",
        "_cp3JPZpq_8y",
        "uLb6fN6nG2S2",
        "0pe-f4mkKkTI",
        "dvehojxdp2nR",
        "7_lQDeM_8BRf"
      ],
      "provenance": [],
      "authorship_tag": "ABX9TyNzLoORN22+pxenSysx1Ffs",
      "include_colab_link": true
    },
    "kernelspec": {
      "display_name": "Python 3",
      "name": "python3"
    },
    "language_info": {
      "name": "python"
    },
    "gpuClass": "standard"
  },
  "nbformat": 4,
  "nbformat_minor": 0
}