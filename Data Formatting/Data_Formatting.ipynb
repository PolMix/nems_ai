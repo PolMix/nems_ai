{
  "nbformat": 4,
  "nbformat_minor": 0,
  "metadata": {
    "colab": {
      "provenance": [],
      "collapsed_sections": [
        "rmlOAPrLoW_1"
      ],
      "authorship_tag": "ABX9TyP50etww4RhHBmra84hH6jE",
      "include_colab_link": true
    },
    "kernelspec": {
      "name": "python3",
      "display_name": "Python 3"
    },
    "language_info": {
      "name": "python"
    }
  },
  "cells": [
    {
      "cell_type": "markdown",
      "metadata": {
        "id": "view-in-github",
        "colab_type": "text"
      },
      "source": [
        "<a href=\"https://colab.research.google.com/github/PolMix/nems_ai/blob/main/Data%20Formatting/Data_Formatting.ipynb\" target=\"_parent\"><img src=\"https://colab.research.google.com/assets/colab-badge.svg\" alt=\"Open In Colab\"/></a>"
      ]
    },
    {
      "cell_type": "markdown",
      "source": [
        "# Lib import"
      ],
      "metadata": {
        "id": "sULAZZhR5a6f"
      }
    },
    {
      "cell_type": "code",
      "execution_count": null,
      "metadata": {
        "id": "8vY7BQDM48iy"
      },
      "outputs": [],
      "source": [
        "import pandas as pd\n",
        "import numpy as np\n",
        "import scipy.stats as sps\n",
        "import seaborn as sns\n",
        "\n",
        "import matplotlib.pyplot as plt\n",
        "from mpl_toolkits.mplot3d import axes3d\n",
        "from matplotlib import cm"
      ]
    },
    {
      "cell_type": "markdown",
      "source": [
        "# Загрузка данных и просмотр их первоначальной структуры"
      ],
      "metadata": {
        "id": "n4A1eigdXrMf"
      }
    },
    {
      "cell_type": "markdown",
      "source": [
        "Загружаем датасет с GitHub:"
      ],
      "metadata": {
        "id": "ox1OWY6l8miu"
      }
    },
    {
      "cell_type": "code",
      "source": [
        "import zipfile\n",
        "import os\n",
        "\n",
        "!wget --no-check-certificate \\\n",
        "    \"https://github.com/PolMix/nems_ai/archive/refs/heads/main.zip\" \\\n",
        "    -O \"/tmp/data.zip\"\n",
        "\n",
        "\n",
        "zip_ref = zipfile.ZipFile('/tmp/data.zip', 'r') #Opens the zip file in read mode\n",
        "zip_ref.extractall('/tmp') #Extracts the files into the /tmp folder\n",
        "zip_ref.close()"
      ],
      "metadata": {
        "colab": {
          "base_uri": "https://localhost:8080/"
        },
        "id": "kLU_GGtsbqMv",
        "outputId": "84aed650-497a-4845-ed51-6ddc7152af4a"
      },
      "execution_count": null,
      "outputs": [
        {
          "output_type": "stream",
          "name": "stdout",
          "text": [
            "--2023-06-10 10:08:59--  https://github.com/PolMix/nems_ai/archive/refs/heads/main.zip\n",
            "Resolving github.com (github.com)... 140.82.112.3\n",
            "Connecting to github.com (github.com)|140.82.112.3|:443... connected.\n",
            "HTTP request sent, awaiting response... 302 Found\n",
            "Location: https://codeload.github.com/PolMix/nems_ai/zip/refs/heads/main [following]\n",
            "--2023-06-10 10:08:59--  https://codeload.github.com/PolMix/nems_ai/zip/refs/heads/main\n",
            "Resolving codeload.github.com (codeload.github.com)... 140.82.114.9\n",
            "Connecting to codeload.github.com (codeload.github.com)|140.82.114.9|:443... connected.\n",
            "HTTP request sent, awaiting response... 200 OK\n",
            "Length: unspecified [application/zip]\n",
            "Saving to: ‘/tmp/data.zip’\n",
            "\n",
            "/tmp/data.zip           [      <=>           ]  15.86M  8.47MB/s    in 1.9s    \n",
            "\n",
            "2023-06-10 10:09:01 (8.47 MB/s) - ‘/tmp/data.zip’ saved [16625899]\n",
            "\n"
          ]
        }
      ]
    },
    {
      "cell_type": "code",
      "source": [
        "%cd /tmp/nems_ai-main/Data\n",
        "filename = 'Dataset.txt'\n",
        "df = pd.read_fwf(filename)"
      ],
      "metadata": {
        "colab": {
          "base_uri": "https://localhost:8080/"
        },
        "id": "HYG7zZbkXzUc",
        "outputId": "e7b0156f-f72d-4a7f-d10b-d021f30885d9"
      },
      "execution_count": null,
      "outputs": [
        {
          "output_type": "stream",
          "name": "stdout",
          "text": [
            "/tmp/nems_ai-main/Data\n"
          ]
        }
      ]
    },
    {
      "cell_type": "markdown",
      "source": [
        "Смотрим на содержимое датасета:"
      ],
      "metadata": {
        "id": "qmeJbnkN8raw"
      }
    },
    {
      "cell_type": "code",
      "source": [
        "df.head()"
      ],
      "metadata": {
        "id": "7vcEYZj76bGw",
        "colab": {
          "base_uri": "https://localhost:8080/",
          "height": 391
        },
        "outputId": "bb9d0025-8cb2-4136-a310-301e553e9fcd"
      },
      "execution_count": null,
      "outputs": [
        {
          "output_type": "execute_result",
          "data": {
            "text/plain": [
              "   Beam length (um)  Beam width (nm)  Thickness_1 (nm)  Thickness_2 (nm)  \\\n",
              "0         10.666186       759.454713        192.911166         46.497924   \n",
              "1         10.666186       759.454713        192.911166         46.497924   \n",
              "2         10.666186       759.454713        192.911166         46.497924   \n",
              "3         10.666186       759.454713        192.911166         46.497924   \n",
              "4        105.195552       890.696186        209.252268         37.407275   \n",
              "\n",
              "   Temperature (K)  Distance (nm)  Gate voltage (V)  Pretension (Pa)  \\\n",
              "0        19.089801     465.822644         28.323179     9.003567e+08   \n",
              "1        19.089801     465.822644         28.323179     9.003567e+08   \n",
              "2        19.089801     465.822644         28.323179     9.003567e+08   \n",
              "3        19.089801     465.822644         28.323179     9.003567e+08   \n",
              "4         3.716553     314.636835         30.305477     5.090849e+08   \n",
              "\n",
              "                       Eigenfrequency (Hz)  Quality factor (1)  \\\n",
              "0   6.415102308860925E7+2400.623397410659i        1.336133e+04   \n",
              "1  1.6011837483039114E8+6638.939975583381i        1.205903e+04   \n",
              "2  2.909667084628352E8+12724.292499287933i        1.143351e+04   \n",
              "3    3.96451977228644E8+19548.92557221195i        1.013999e+04   \n",
              "4   2569354.395333146+0.17898817427683494i        7.177442e+06   \n",
              "\n",
              "   Effective mass  Noise (kg^2 / s^3)       TED (W)  \n",
              "0    2.362616e-15        1.051171e-22  2.602258e-12  \n",
              "1    2.589984e-15        3.186781e-22  2.991534e-12  \n",
              "2    2.560363e-15        6.037978e-22  3.409430e-12  \n",
              "3    8.780197e-16        3.181145e-22  4.959458e-12  \n",
              "4    3.216064e-14        2.135344e-28  7.976759e-12  "
            ],
            "text/html": [
              "\n",
              "  <div id=\"df-bebef53d-a3fa-40ff-a2ef-325fdfc69693\">\n",
              "    <div class=\"colab-df-container\">\n",
              "      <div>\n",
              "<style scoped>\n",
              "    .dataframe tbody tr th:only-of-type {\n",
              "        vertical-align: middle;\n",
              "    }\n",
              "\n",
              "    .dataframe tbody tr th {\n",
              "        vertical-align: top;\n",
              "    }\n",
              "\n",
              "    .dataframe thead th {\n",
              "        text-align: right;\n",
              "    }\n",
              "</style>\n",
              "<table border=\"1\" class=\"dataframe\">\n",
              "  <thead>\n",
              "    <tr style=\"text-align: right;\">\n",
              "      <th></th>\n",
              "      <th>Beam length (um)</th>\n",
              "      <th>Beam width (nm)</th>\n",
              "      <th>Thickness_1 (nm)</th>\n",
              "      <th>Thickness_2 (nm)</th>\n",
              "      <th>Temperature (K)</th>\n",
              "      <th>Distance (nm)</th>\n",
              "      <th>Gate voltage (V)</th>\n",
              "      <th>Pretension (Pa)</th>\n",
              "      <th>Eigenfrequency (Hz)</th>\n",
              "      <th>Quality factor (1)</th>\n",
              "      <th>Effective mass</th>\n",
              "      <th>Noise (kg^2 / s^3)</th>\n",
              "      <th>TED (W)</th>\n",
              "    </tr>\n",
              "  </thead>\n",
              "  <tbody>\n",
              "    <tr>\n",
              "      <th>0</th>\n",
              "      <td>10.666186</td>\n",
              "      <td>759.454713</td>\n",
              "      <td>192.911166</td>\n",
              "      <td>46.497924</td>\n",
              "      <td>19.089801</td>\n",
              "      <td>465.822644</td>\n",
              "      <td>28.323179</td>\n",
              "      <td>9.003567e+08</td>\n",
              "      <td>6.415102308860925E7+2400.623397410659i</td>\n",
              "      <td>1.336133e+04</td>\n",
              "      <td>2.362616e-15</td>\n",
              "      <td>1.051171e-22</td>\n",
              "      <td>2.602258e-12</td>\n",
              "    </tr>\n",
              "    <tr>\n",
              "      <th>1</th>\n",
              "      <td>10.666186</td>\n",
              "      <td>759.454713</td>\n",
              "      <td>192.911166</td>\n",
              "      <td>46.497924</td>\n",
              "      <td>19.089801</td>\n",
              "      <td>465.822644</td>\n",
              "      <td>28.323179</td>\n",
              "      <td>9.003567e+08</td>\n",
              "      <td>1.6011837483039114E8+6638.939975583381i</td>\n",
              "      <td>1.205903e+04</td>\n",
              "      <td>2.589984e-15</td>\n",
              "      <td>3.186781e-22</td>\n",
              "      <td>2.991534e-12</td>\n",
              "    </tr>\n",
              "    <tr>\n",
              "      <th>2</th>\n",
              "      <td>10.666186</td>\n",
              "      <td>759.454713</td>\n",
              "      <td>192.911166</td>\n",
              "      <td>46.497924</td>\n",
              "      <td>19.089801</td>\n",
              "      <td>465.822644</td>\n",
              "      <td>28.323179</td>\n",
              "      <td>9.003567e+08</td>\n",
              "      <td>2.909667084628352E8+12724.292499287933i</td>\n",
              "      <td>1.143351e+04</td>\n",
              "      <td>2.560363e-15</td>\n",
              "      <td>6.037978e-22</td>\n",
              "      <td>3.409430e-12</td>\n",
              "    </tr>\n",
              "    <tr>\n",
              "      <th>3</th>\n",
              "      <td>10.666186</td>\n",
              "      <td>759.454713</td>\n",
              "      <td>192.911166</td>\n",
              "      <td>46.497924</td>\n",
              "      <td>19.089801</td>\n",
              "      <td>465.822644</td>\n",
              "      <td>28.323179</td>\n",
              "      <td>9.003567e+08</td>\n",
              "      <td>3.96451977228644E8+19548.92557221195i</td>\n",
              "      <td>1.013999e+04</td>\n",
              "      <td>8.780197e-16</td>\n",
              "      <td>3.181145e-22</td>\n",
              "      <td>4.959458e-12</td>\n",
              "    </tr>\n",
              "    <tr>\n",
              "      <th>4</th>\n",
              "      <td>105.195552</td>\n",
              "      <td>890.696186</td>\n",
              "      <td>209.252268</td>\n",
              "      <td>37.407275</td>\n",
              "      <td>3.716553</td>\n",
              "      <td>314.636835</td>\n",
              "      <td>30.305477</td>\n",
              "      <td>5.090849e+08</td>\n",
              "      <td>2569354.395333146+0.17898817427683494i</td>\n",
              "      <td>7.177442e+06</td>\n",
              "      <td>3.216064e-14</td>\n",
              "      <td>2.135344e-28</td>\n",
              "      <td>7.976759e-12</td>\n",
              "    </tr>\n",
              "  </tbody>\n",
              "</table>\n",
              "</div>\n",
              "      <button class=\"colab-df-convert\" onclick=\"convertToInteractive('df-bebef53d-a3fa-40ff-a2ef-325fdfc69693')\"\n",
              "              title=\"Convert this dataframe to an interactive table.\"\n",
              "              style=\"display:none;\">\n",
              "        \n",
              "  <svg xmlns=\"http://www.w3.org/2000/svg\" height=\"24px\"viewBox=\"0 0 24 24\"\n",
              "       width=\"24px\">\n",
              "    <path d=\"M0 0h24v24H0V0z\" fill=\"none\"/>\n",
              "    <path d=\"M18.56 5.44l.94 2.06.94-2.06 2.06-.94-2.06-.94-.94-2.06-.94 2.06-2.06.94zm-11 1L8.5 8.5l.94-2.06 2.06-.94-2.06-.94L8.5 2.5l-.94 2.06-2.06.94zm10 10l.94 2.06.94-2.06 2.06-.94-2.06-.94-.94-2.06-.94 2.06-2.06.94z\"/><path d=\"M17.41 7.96l-1.37-1.37c-.4-.4-.92-.59-1.43-.59-.52 0-1.04.2-1.43.59L10.3 9.45l-7.72 7.72c-.78.78-.78 2.05 0 2.83L4 21.41c.39.39.9.59 1.41.59.51 0 1.02-.2 1.41-.59l7.78-7.78 2.81-2.81c.8-.78.8-2.07 0-2.86zM5.41 20L4 18.59l7.72-7.72 1.47 1.35L5.41 20z\"/>\n",
              "  </svg>\n",
              "      </button>\n",
              "      \n",
              "  <style>\n",
              "    .colab-df-container {\n",
              "      display:flex;\n",
              "      flex-wrap:wrap;\n",
              "      gap: 12px;\n",
              "    }\n",
              "\n",
              "    .colab-df-convert {\n",
              "      background-color: #E8F0FE;\n",
              "      border: none;\n",
              "      border-radius: 50%;\n",
              "      cursor: pointer;\n",
              "      display: none;\n",
              "      fill: #1967D2;\n",
              "      height: 32px;\n",
              "      padding: 0 0 0 0;\n",
              "      width: 32px;\n",
              "    }\n",
              "\n",
              "    .colab-df-convert:hover {\n",
              "      background-color: #E2EBFA;\n",
              "      box-shadow: 0px 1px 2px rgba(60, 64, 67, 0.3), 0px 1px 3px 1px rgba(60, 64, 67, 0.15);\n",
              "      fill: #174EA6;\n",
              "    }\n",
              "\n",
              "    [theme=dark] .colab-df-convert {\n",
              "      background-color: #3B4455;\n",
              "      fill: #D2E3FC;\n",
              "    }\n",
              "\n",
              "    [theme=dark] .colab-df-convert:hover {\n",
              "      background-color: #434B5C;\n",
              "      box-shadow: 0px 1px 3px 1px rgba(0, 0, 0, 0.15);\n",
              "      filter: drop-shadow(0px 1px 2px rgba(0, 0, 0, 0.3));\n",
              "      fill: #FFFFFF;\n",
              "    }\n",
              "  </style>\n",
              "\n",
              "      <script>\n",
              "        const buttonEl =\n",
              "          document.querySelector('#df-bebef53d-a3fa-40ff-a2ef-325fdfc69693 button.colab-df-convert');\n",
              "        buttonEl.style.display =\n",
              "          google.colab.kernel.accessAllowed ? 'block' : 'none';\n",
              "\n",
              "        async function convertToInteractive(key) {\n",
              "          const element = document.querySelector('#df-bebef53d-a3fa-40ff-a2ef-325fdfc69693');\n",
              "          const dataTable =\n",
              "            await google.colab.kernel.invokeFunction('convertToInteractive',\n",
              "                                                     [key], {});\n",
              "          if (!dataTable) return;\n",
              "\n",
              "          const docLinkHtml = 'Like what you see? Visit the ' +\n",
              "            '<a target=\"_blank\" href=https://colab.research.google.com/notebooks/data_table.ipynb>data table notebook</a>'\n",
              "            + ' to learn more about interactive tables.';\n",
              "          element.innerHTML = '';\n",
              "          dataTable['output_type'] = 'display_data';\n",
              "          await google.colab.output.renderOutput(dataTable, element);\n",
              "          const docLink = document.createElement('div');\n",
              "          docLink.innerHTML = docLinkHtml;\n",
              "          element.appendChild(docLink);\n",
              "        }\n",
              "      </script>\n",
              "    </div>\n",
              "  </div>\n",
              "  "
            ]
          },
          "metadata": {},
          "execution_count": 5
        }
      ]
    },
    {
      "cell_type": "markdown",
      "source": [
        "# Обработка датасета"
      ],
      "metadata": {
        "id": "GZCYbr7r983o"
      }
    },
    {
      "cell_type": "markdown",
      "source": [
        "Импорт необходимых функций:"
      ],
      "metadata": {
        "id": "N3Y56qclyn_B"
      }
    },
    {
      "cell_type": "code",
      "source": [
        "%cd '/tmp/nems_ai-main/Scripts'\n",
        "from dataset_processing import row_col_transform, name_columns\n",
        "from dataset_processing import return_neg_frequencies_index, del_frequencies\n",
        "from dataset_processing import del_im_frequency, convert_freq_to_float\n",
        "from dataset_processing import set_param_limits, catch_limit_overflow"
      ],
      "metadata": {
        "id": "UXeZqBK-yngy",
        "colab": {
          "base_uri": "https://localhost:8080/"
        },
        "outputId": "52dd6529-b681-413c-bf0d-c731384c9e3c"
      },
      "execution_count": null,
      "outputs": [
        {
          "output_type": "stream",
          "name": "stdout",
          "text": [
            "/tmp/nems_ai-main/Scripts\n"
          ]
        }
      ]
    },
    {
      "cell_type": "markdown",
      "source": [
        "Преобразование 4row x 1col --> 1row x 4col:"
      ],
      "metadata": {
        "id": "qKRcz_HN-zX9"
      }
    },
    {
      "cell_type": "code",
      "source": [
        "num_common = 8\n",
        "\n",
        "data = row_col_transform(df, num_common)"
      ],
      "metadata": {
        "id": "zdXIdwKBSA0_"
      },
      "execution_count": null,
      "outputs": []
    },
    {
      "cell_type": "markdown",
      "source": [
        "Форматирование названий колонок:"
      ],
      "metadata": {
        "id": "vaI9j2yHSh4-"
      }
    },
    {
      "cell_type": "code",
      "source": [
        "data = name_columns(df, data, num_common)"
      ],
      "metadata": {
        "id": "rHTVkWPVSv9z"
      },
      "execution_count": null,
      "outputs": []
    },
    {
      "cell_type": "markdown",
      "source": [
        "Вывод информации об аномалиях мнимой части резонансной частоты, их удаление:"
      ],
      "metadata": {
        "id": "qq-JivQi-7Lw"
      }
    },
    {
      "cell_type": "code",
      "source": [
        "# Детектирование аномалий:\n",
        "anomaly_rows, anomaly_cols = return_neg_frequencies_index(data)\n",
        "print(\"Row and column indices of detected anomalies of imaginary part of resonant frequency:\")\n",
        "print(anomaly_rows, anomaly_cols)\n",
        "print(f\"The length of the dataset is {data.shape[0]}\")\n",
        "\n",
        "# Удаление аномалий:\n",
        "data = del_frequencies(data, anomaly_rows)\n",
        "lst_i, lst_j = return_neg_frequencies_index(data)\n",
        "print(f\"Anomalies have been deleted, the length of the dataset is {data.shape[0]}\")"
      ],
      "metadata": {
        "id": "sCA3nd7MdOup",
        "colab": {
          "base_uri": "https://localhost:8080/"
        },
        "outputId": "60f4f4ae-41e6-495e-c6b2-16120ae7482c"
      },
      "execution_count": null,
      "outputs": [
        {
          "output_type": "stream",
          "name": "stdout",
          "text": [
            "Row and column indices of detected anomalies of imaginary part of resonant frequency:\n",
            "[128, 176, 193, 198, 268, 301, 325, 343, 345, 350, 431, 463, 468, 476, 496, 498, 503, 507, 529, 592, 593, 630, 682, 692, 744, 755, 808, 827, 832, 833, 865, 894, 896, 972, 1007, 1052, 1080, 1217, 1313, 1315, 1322, 1336, 1346, 1367, 1380, 1406, 1476, 1491, 1529, 1539, 1545, 1603, 1610, 1611, 1613, 1652, 1663, 1673, 1693, 1721, 1729, 1743, 1789, 1824, 1830, 1844, 1845, 1871, 1877, 1956, 1984, 2071, 2081, 2083, 2100, 2115, 2124, 2181, 2189, 2277, 2312, 2316, 2343, 2360, 2411, 2430, 2506, 2544, 2598, 2654, 2888, 2903, 2909, 2947, 2990, 3078, 3111, 3232, 3252, 3362, 3421, 3539, 3555, 3569, 3642, 3655, 3673, 3694, 3701, 3715, 3797, 3898, 4013, 4027, 4075, 4079, 4159, 4185, 4220, 4236, 4240, 4313, 4319, 4323, 4336, 4393, 4410, 4434, 4447, 4487, 4504, 4510, 4520, 4529, 4537, 4542, 4584, 4611, 4633, 4667, 4701, 4752, 4840, 4893, 4948, 4953, 5000, 5095, 5101, 5140, 5153, 5243, 5277, 5283, 5287, 5297, 128, 193, 198, 268, 301, 345, 350, 431, 463, 476, 496, 498, 503, 507, 529, 592, 744, 755, 808, 833, 894, 896, 1007, 1052, 1080, 1217, 1313, 1322, 1367, 1380, 1406, 1491, 1539, 1545, 1603, 1652, 1663, 1721, 1729, 1789, 1824, 1871, 1877, 1956, 1984, 2071, 2081, 2124, 2181, 2312, 2316, 2343, 2360, 2430, 2506, 2544, 2888, 2909, 2990, 3232, 3252, 3362, 3421, 3555, 3569, 3655, 3673, 3694, 3701, 3715, 4013, 4027, 4075, 4079, 4159, 4185, 4220, 4236, 4240, 4393, 4410, 4447, 4510, 4520, 4537, 4542, 4633, 4701, 5000, 5095, 5101, 5140, 5153, 5243, 198, 214, 268, 301, 345, 431, 463, 464, 496, 503, 507, 592, 664, 744, 833, 894, 1007, 1052, 1217, 1313, 1322, 1367, 1380, 1406, 1491, 1538, 1539, 1545, 1558, 1603, 1610, 1652, 1673, 1729, 1787, 1789, 1824, 1871, 1927, 1984, 2045, 2071, 2115, 2312, 2316, 2343, 2430, 2506, 2513, 2544, 2546, 2564, 2630, 2888, 2909, 2912, 2963, 2990, 3232, 3252, 3362, 3421, 3506, 3530, 3569, 3586, 3618, 3655, 3673, 3701, 3715, 3935, 4037, 4064, 4075, 4079, 4105, 4149, 4185, 4220, 4236, 4240, 4247, 4393, 4447, 4487, 4510, 4542, 4585, 4701, 4743, 4963, 5000, 5037, 5095, 5140, 5153, 5196, 5243, 2, 7, 9, 42, 49, 70, 99, 102, 119, 168, 176, 193, 301, 323, 328, 341, 345, 348, 355, 357, 364, 375, 460, 463, 464, 476, 481, 493, 496, 497, 498, 507, 558, 593, 646, 649, 656, 664, 665, 682, 685, 716, 734, 766, 770, 774, 779, 792, 796, 799, 808, 819, 833, 857, 872, 877, 896, 901, 904, 934, 997, 1001, 1007, 1020, 1052, 1058, 1071, 1090, 1192, 1200, 1201, 1223, 1243, 1275, 1305, 1313, 1327, 1355, 1369, 1380, 1382, 1390, 1476, 1491, 1499, 1513, 1529, 1538, 1558, 1559, 1611, 1629, 1648, 1652, 1673, 1675, 1722, 1789, 1805, 1818, 1823, 1830, 1844, 1845, 1865, 1871, 1877, 1881, 1885, 1900, 1929, 1939, 1956, 1969, 1980, 1984, 2004, 2026, 2041, 2045, 2057, 2081, 2127, 2161, 2206, 2207, 2232, 2236, 2311, 2313, 2316, 2336, 2342, 2343, 2344, 2348, 2394, 2429, 2439, 2476, 2484, 2506, 2520, 2523, 2544, 2546, 2558, 2561, 2583, 2598, 2609, 2631, 2668, 2673, 2682, 2707, 2719, 2731, 2733, 2804, 2807, 2817, 2829, 2842, 2862, 2888, 2903, 2909, 2932, 2941, 2942, 2949, 2961, 2963, 2977, 2994, 3007, 3014, 3018, 3028, 3031, 3044, 3047, 3074, 3078, 3096, 3106, 3111, 3152, 3196, 3222, 3235, 3237, 3246, 3282, 3300, 3321, 3354, 3387, 3421, 3436, 3521, 3527, 3530, 3569, 3570, 3586, 3618, 3625, 3656, 3673, 3704, 3738, 3748, 3786, 3797, 3807, 3813, 3817, 3888, 3898, 3928, 3932, 3935, 3937, 3941, 3960, 4014, 4027, 4037, 4064, 4067, 4074, 4075, 4085, 4103, 4126, 4149, 4165, 4166, 4223, 4228, 4240, 4246, 4247, 4255, 4266, 4271, 4295, 4313, 4319, 4336, 4357, 4368, 4374, 4385, 4393, 4409, 4416, 4430, 4434, 4440, 4535, 4542, 4545, 4550, 4551, 4584, 4585, 4594, 4611, 4614, 4626, 4633, 4645, 4667, 4668, 4682, 4701, 4716, 4743, 4752, 4755, 4767, 4774, 4778, 4822, 4832, 4860, 4861, 4863, 4865, 4871, 4872, 4873, 4893, 4899, 4945, 4946, 4948, 4959, 4963, 4975, 4983, 5008, 5021, 5037, 5044, 5047, 5053, 5085, 5094, 5095, 5117, 5132, 5140, 5150, 5176, 5196, 5200, 5225, 5251, 5257, 5283, 5287] [8, 8, 8, 8, 8, 8, 8, 8, 8, 8, 8, 8, 8, 8, 8, 8, 8, 8, 8, 8, 8, 8, 8, 8, 8, 8, 8, 8, 8, 8, 8, 8, 8, 8, 8, 8, 8, 8, 8, 8, 8, 8, 8, 8, 8, 8, 8, 8, 8, 8, 8, 8, 8, 8, 8, 8, 8, 8, 8, 8, 8, 8, 8, 8, 8, 8, 8, 8, 8, 8, 8, 8, 8, 8, 8, 8, 8, 8, 8, 8, 8, 8, 8, 8, 8, 8, 8, 8, 8, 8, 8, 8, 8, 8, 8, 8, 8, 8, 8, 8, 8, 8, 8, 8, 8, 8, 8, 8, 8, 8, 8, 8, 8, 8, 8, 8, 8, 8, 8, 8, 8, 8, 8, 8, 8, 8, 8, 8, 8, 8, 8, 8, 8, 8, 8, 8, 8, 8, 8, 8, 8, 8, 8, 8, 8, 8, 8, 8, 8, 8, 8, 8, 8, 8, 8, 8, 13, 13, 13, 13, 13, 13, 13, 13, 13, 13, 13, 13, 13, 13, 13, 13, 13, 13, 13, 13, 13, 13, 13, 13, 13, 13, 13, 13, 13, 13, 13, 13, 13, 13, 13, 13, 13, 13, 13, 13, 13, 13, 13, 13, 13, 13, 13, 13, 13, 13, 13, 13, 13, 13, 13, 13, 13, 13, 13, 13, 13, 13, 13, 13, 13, 13, 13, 13, 13, 13, 13, 13, 13, 13, 13, 13, 13, 13, 13, 13, 13, 13, 13, 13, 13, 13, 13, 13, 13, 13, 13, 13, 13, 13, 18, 18, 18, 18, 18, 18, 18, 18, 18, 18, 18, 18, 18, 18, 18, 18, 18, 18, 18, 18, 18, 18, 18, 18, 18, 18, 18, 18, 18, 18, 18, 18, 18, 18, 18, 18, 18, 18, 18, 18, 18, 18, 18, 18, 18, 18, 18, 18, 18, 18, 18, 18, 18, 18, 18, 18, 18, 18, 18, 18, 18, 18, 18, 18, 18, 18, 18, 18, 18, 18, 18, 18, 18, 18, 18, 18, 18, 18, 18, 18, 18, 18, 18, 18, 18, 18, 18, 18, 18, 18, 18, 18, 18, 18, 18, 18, 18, 18, 18, 23, 23, 23, 23, 23, 23, 23, 23, 23, 23, 23, 23, 23, 23, 23, 23, 23, 23, 23, 23, 23, 23, 23, 23, 23, 23, 23, 23, 23, 23, 23, 23, 23, 23, 23, 23, 23, 23, 23, 23, 23, 23, 23, 23, 23, 23, 23, 23, 23, 23, 23, 23, 23, 23, 23, 23, 23, 23, 23, 23, 23, 23, 23, 23, 23, 23, 23, 23, 23, 23, 23, 23, 23, 23, 23, 23, 23, 23, 23, 23, 23, 23, 23, 23, 23, 23, 23, 23, 23, 23, 23, 23, 23, 23, 23, 23, 23, 23, 23, 23, 23, 23, 23, 23, 23, 23, 23, 23, 23, 23, 23, 23, 23, 23, 23, 23, 23, 23, 23, 23, 23, 23, 23, 23, 23, 23, 23, 23, 23, 23, 23, 23, 23, 23, 23, 23, 23, 23, 23, 23, 23, 23, 23, 23, 23, 23, 23, 23, 23, 23, 23, 23, 23, 23, 23, 23, 23, 23, 23, 23, 23, 23, 23, 23, 23, 23, 23, 23, 23, 23, 23, 23, 23, 23, 23, 23, 23, 23, 23, 23, 23, 23, 23, 23, 23, 23, 23, 23, 23, 23, 23, 23, 23, 23, 23, 23, 23, 23, 23, 23, 23, 23, 23, 23, 23, 23, 23, 23, 23, 23, 23, 23, 23, 23, 23, 23, 23, 23, 23, 23, 23, 23, 23, 23, 23, 23, 23, 23, 23, 23, 23, 23, 23, 23, 23, 23, 23, 23, 23, 23, 23, 23, 23, 23, 23, 23, 23, 23, 23, 23, 23, 23, 23, 23, 23, 23, 23, 23, 23, 23, 23, 23, 23, 23, 23, 23, 23, 23, 23, 23, 23, 23, 23, 23, 23, 23, 23, 23, 23, 23, 23, 23, 23, 23, 23, 23, 23, 23, 23, 23, 23, 23, 23, 23, 23, 23, 23, 23, 23, 23, 23, 23, 23, 23, 23, 23, 23, 23, 23, 23, 23, 23, 23, 23, 23, 23, 23, 23, 23, 23, 23, 23, 23, 23, 23]\n",
            "The length of the dataset is 5330\n",
            "Anomalies have been deleted, the length of the dataset is 4909\n"
          ]
        }
      ]
    },
    {
      "cell_type": "markdown",
      "source": [
        "Удаление мнимой части всех элементов датасета:"
      ],
      "metadata": {
        "id": "xzbWbtud_BY4"
      }
    },
    {
      "cell_type": "code",
      "source": [
        "data = del_im_frequency(data)"
      ],
      "metadata": {
        "id": "CQ1oA5W2bLOz"
      },
      "execution_count": null,
      "outputs": []
    },
    {
      "cell_type": "code",
      "source": [
        "data = convert_freq_to_float(data)"
      ],
      "metadata": {
        "id": "7alw8INCI3si"
      },
      "execution_count": null,
      "outputs": []
    },
    {
      "cell_type": "markdown",
      "source": [
        "Смотрим на статистику по параметрам перед указанием пределов для параметров:"
      ],
      "metadata": {
        "id": "2xz-eVKmW1mV"
      }
    },
    {
      "cell_type": "code",
      "source": [
        "data.describe()"
      ],
      "metadata": {
        "id": "_xvWjgyGW0Ii",
        "colab": {
          "base_uri": "https://localhost:8080/"
        },
        "outputId": "d4c3bd61-0348-4b13-f0ce-1a65917168e4"
      },
      "execution_count": null,
      "outputs": [
        {
          "output_type": "execute_result",
          "data": {
            "text/plain": [
              "       Beam length (um)  Beam width (nm)  Thickness_1 (nm)  Thickness_2 (nm)  \\\n",
              "count       4909.000000      4909.000000       4909.000000       4909.000000   \n",
              "mean         195.469415       529.097516        150.819856         30.404340   \n",
              "std          238.666890       269.281493         41.982835         11.712403   \n",
              "min           10.006357        50.114701         66.096716         10.055810   \n",
              "25%           36.605352       298.766024        107.242205         20.117549   \n",
              "50%           97.149246       526.461810        150.537470         30.610468   \n",
              "75%          257.772109       758.297463        193.682337         40.815722   \n",
              "max         1195.787212       999.773967        234.883842         49.992126   \n",
              "\n",
              "       Temperature (K)  Distance (nm)  Gate voltage (V)  Pretension (Pa)  \\\n",
              "count      4909.000000    4909.000000       4909.000000     4.909000e+03   \n",
              "mean         23.742353     349.708484         17.227796     4.712346e+08   \n",
              "std          49.683629     145.560699         12.786909     3.190863e+08   \n",
              "min           0.010004     100.222269          0.000000     0.000000e+00   \n",
              "25%           0.309281     220.216016          5.140889     2.366180e+08   \n",
              "50%           2.657895     349.938323         17.005210     4.777992e+08   \n",
              "75%          19.179475     476.299101         28.608417     7.477595e+08   \n",
              "max         299.880837     599.954225         39.995581     9.994946e+08   \n",
              "\n",
              "       M1 Eigenfrequency (Hz)  M1 Quality factor (1)  ...  \\\n",
              "count            4.909000e+03           4.909000e+03  ...   \n",
              "mean             6.988914e+06           2.502643e+07  ...   \n",
              "std              1.098401e+07           8.329148e+07  ...   \n",
              "min              3.840254e+04           1.409866e+03  ...   \n",
              "25%              8.730700e+05           2.943045e+05  ...   \n",
              "50%              2.470389e+06           1.872628e+06  ...   \n",
              "75%              7.668586e+06           1.221293e+07  ...   \n",
              "max              8.115660e+07           1.467439e+09  ...   \n",
              "\n",
              "       M3 Eigenfrequency (Hz)  M3 Quality factor (1)  M3 Effective mass  \\\n",
              "count            4.909000e+03           4.909000e+03       4.909000e+03   \n",
              "mean             2.804685e+07           2.219908e+07       2.808115e-14   \n",
              "std              5.009151e+07           7.344745e+07       4.388424e-14   \n",
              "min              1.153109e+05           1.409853e+03       1.263636e-16   \n",
              "25%              2.650417e+06           2.537637e+05       3.638416e-15   \n",
              "50%              7.744980e+06           1.620164e+06       1.061271e-14   \n",
              "75%              2.693589e+07           1.071371e+07       3.272321e-14   \n",
              "max              3.675392e+08           1.207506e+09       4.327311e-13   \n",
              "\n",
              "       M3 Noise (kg^2 / s^3)    M3 TED (W)  M4 Eigenfrequency (Hz)  \\\n",
              "count           4.909000e+03  4.909000e+03            4.909000e+03   \n",
              "mean            2.014207e-23  7.943504e-12            4.173375e+07   \n",
              "std             3.843014e-22  7.561086e-12            7.418109e+07   \n",
              "min             8.801085e-34  3.347321e-14            1.538710e+05   \n",
              "25%             1.125043e-29  2.898015e-12            3.557429e+06   \n",
              "50%             9.200261e-28  5.521390e-12            1.059702e+07   \n",
              "75%             5.545136e-26  1.055391e-11            3.932619e+07   \n",
              "max             1.952995e-20  7.927833e-11            4.399336e+08   \n",
              "\n",
              "       M4 Quality factor (1)  M4 Effective mass  M4 Noise (kg^2 / s^3)  \\\n",
              "count           4.909000e+03       4.909000e+03           4.909000e+03   \n",
              "mean            2.115728e+07       2.806848e-14           1.691331e-23   \n",
              "std             8.666440e+07       4.391170e-14           2.545723e-22   \n",
              "min             1.409842e+03       1.266484e-16           9.123322e-34   \n",
              "25%             2.296537e+05       3.614451e-15           1.998218e-29   \n",
              "50%             1.356222e+06       1.062533e-14           1.503564e-27   \n",
              "75%             9.048577e+06       3.280904e-14           8.259448e-26   \n",
              "max             2.734598e+09       4.327028e-13           9.359624e-21   \n",
              "\n",
              "         M4 TED (W)  \n",
              "count  4.909000e+03  \n",
              "mean   1.017113e-11  \n",
              "std    9.704030e-12  \n",
              "min    7.378453e-14  \n",
              "25%    3.819665e-12  \n",
              "50%    7.042181e-12  \n",
              "75%    1.334680e-11  \n",
              "max    1.112834e-10  \n",
              "\n",
              "[8 rows x 28 columns]"
            ],
            "text/html": [
              "\n",
              "  <div id=\"df-20ed3436-c74d-4f9f-a77d-79a49ac0e59a\">\n",
              "    <div class=\"colab-df-container\">\n",
              "      <div>\n",
              "<style scoped>\n",
              "    .dataframe tbody tr th:only-of-type {\n",
              "        vertical-align: middle;\n",
              "    }\n",
              "\n",
              "    .dataframe tbody tr th {\n",
              "        vertical-align: top;\n",
              "    }\n",
              "\n",
              "    .dataframe thead th {\n",
              "        text-align: right;\n",
              "    }\n",
              "</style>\n",
              "<table border=\"1\" class=\"dataframe\">\n",
              "  <thead>\n",
              "    <tr style=\"text-align: right;\">\n",
              "      <th></th>\n",
              "      <th>Beam length (um)</th>\n",
              "      <th>Beam width (nm)</th>\n",
              "      <th>Thickness_1 (nm)</th>\n",
              "      <th>Thickness_2 (nm)</th>\n",
              "      <th>Temperature (K)</th>\n",
              "      <th>Distance (nm)</th>\n",
              "      <th>Gate voltage (V)</th>\n",
              "      <th>Pretension (Pa)</th>\n",
              "      <th>M1 Eigenfrequency (Hz)</th>\n",
              "      <th>M1 Quality factor (1)</th>\n",
              "      <th>...</th>\n",
              "      <th>M3 Eigenfrequency (Hz)</th>\n",
              "      <th>M3 Quality factor (1)</th>\n",
              "      <th>M3 Effective mass</th>\n",
              "      <th>M3 Noise (kg^2 / s^3)</th>\n",
              "      <th>M3 TED (W)</th>\n",
              "      <th>M4 Eigenfrequency (Hz)</th>\n",
              "      <th>M4 Quality factor (1)</th>\n",
              "      <th>M4 Effective mass</th>\n",
              "      <th>M4 Noise (kg^2 / s^3)</th>\n",
              "      <th>M4 TED (W)</th>\n",
              "    </tr>\n",
              "  </thead>\n",
              "  <tbody>\n",
              "    <tr>\n",
              "      <th>count</th>\n",
              "      <td>4909.000000</td>\n",
              "      <td>4909.000000</td>\n",
              "      <td>4909.000000</td>\n",
              "      <td>4909.000000</td>\n",
              "      <td>4909.000000</td>\n",
              "      <td>4909.000000</td>\n",
              "      <td>4909.000000</td>\n",
              "      <td>4.909000e+03</td>\n",
              "      <td>4.909000e+03</td>\n",
              "      <td>4.909000e+03</td>\n",
              "      <td>...</td>\n",
              "      <td>4.909000e+03</td>\n",
              "      <td>4.909000e+03</td>\n",
              "      <td>4.909000e+03</td>\n",
              "      <td>4.909000e+03</td>\n",
              "      <td>4.909000e+03</td>\n",
              "      <td>4.909000e+03</td>\n",
              "      <td>4.909000e+03</td>\n",
              "      <td>4.909000e+03</td>\n",
              "      <td>4.909000e+03</td>\n",
              "      <td>4.909000e+03</td>\n",
              "    </tr>\n",
              "    <tr>\n",
              "      <th>mean</th>\n",
              "      <td>195.469415</td>\n",
              "      <td>529.097516</td>\n",
              "      <td>150.819856</td>\n",
              "      <td>30.404340</td>\n",
              "      <td>23.742353</td>\n",
              "      <td>349.708484</td>\n",
              "      <td>17.227796</td>\n",
              "      <td>4.712346e+08</td>\n",
              "      <td>6.988914e+06</td>\n",
              "      <td>2.502643e+07</td>\n",
              "      <td>...</td>\n",
              "      <td>2.804685e+07</td>\n",
              "      <td>2.219908e+07</td>\n",
              "      <td>2.808115e-14</td>\n",
              "      <td>2.014207e-23</td>\n",
              "      <td>7.943504e-12</td>\n",
              "      <td>4.173375e+07</td>\n",
              "      <td>2.115728e+07</td>\n",
              "      <td>2.806848e-14</td>\n",
              "      <td>1.691331e-23</td>\n",
              "      <td>1.017113e-11</td>\n",
              "    </tr>\n",
              "    <tr>\n",
              "      <th>std</th>\n",
              "      <td>238.666890</td>\n",
              "      <td>269.281493</td>\n",
              "      <td>41.982835</td>\n",
              "      <td>11.712403</td>\n",
              "      <td>49.683629</td>\n",
              "      <td>145.560699</td>\n",
              "      <td>12.786909</td>\n",
              "      <td>3.190863e+08</td>\n",
              "      <td>1.098401e+07</td>\n",
              "      <td>8.329148e+07</td>\n",
              "      <td>...</td>\n",
              "      <td>5.009151e+07</td>\n",
              "      <td>7.344745e+07</td>\n",
              "      <td>4.388424e-14</td>\n",
              "      <td>3.843014e-22</td>\n",
              "      <td>7.561086e-12</td>\n",
              "      <td>7.418109e+07</td>\n",
              "      <td>8.666440e+07</td>\n",
              "      <td>4.391170e-14</td>\n",
              "      <td>2.545723e-22</td>\n",
              "      <td>9.704030e-12</td>\n",
              "    </tr>\n",
              "    <tr>\n",
              "      <th>min</th>\n",
              "      <td>10.006357</td>\n",
              "      <td>50.114701</td>\n",
              "      <td>66.096716</td>\n",
              "      <td>10.055810</td>\n",
              "      <td>0.010004</td>\n",
              "      <td>100.222269</td>\n",
              "      <td>0.000000</td>\n",
              "      <td>0.000000e+00</td>\n",
              "      <td>3.840254e+04</td>\n",
              "      <td>1.409866e+03</td>\n",
              "      <td>...</td>\n",
              "      <td>1.153109e+05</td>\n",
              "      <td>1.409853e+03</td>\n",
              "      <td>1.263636e-16</td>\n",
              "      <td>8.801085e-34</td>\n",
              "      <td>3.347321e-14</td>\n",
              "      <td>1.538710e+05</td>\n",
              "      <td>1.409842e+03</td>\n",
              "      <td>1.266484e-16</td>\n",
              "      <td>9.123322e-34</td>\n",
              "      <td>7.378453e-14</td>\n",
              "    </tr>\n",
              "    <tr>\n",
              "      <th>25%</th>\n",
              "      <td>36.605352</td>\n",
              "      <td>298.766024</td>\n",
              "      <td>107.242205</td>\n",
              "      <td>20.117549</td>\n",
              "      <td>0.309281</td>\n",
              "      <td>220.216016</td>\n",
              "      <td>5.140889</td>\n",
              "      <td>2.366180e+08</td>\n",
              "      <td>8.730700e+05</td>\n",
              "      <td>2.943045e+05</td>\n",
              "      <td>...</td>\n",
              "      <td>2.650417e+06</td>\n",
              "      <td>2.537637e+05</td>\n",
              "      <td>3.638416e-15</td>\n",
              "      <td>1.125043e-29</td>\n",
              "      <td>2.898015e-12</td>\n",
              "      <td>3.557429e+06</td>\n",
              "      <td>2.296537e+05</td>\n",
              "      <td>3.614451e-15</td>\n",
              "      <td>1.998218e-29</td>\n",
              "      <td>3.819665e-12</td>\n",
              "    </tr>\n",
              "    <tr>\n",
              "      <th>50%</th>\n",
              "      <td>97.149246</td>\n",
              "      <td>526.461810</td>\n",
              "      <td>150.537470</td>\n",
              "      <td>30.610468</td>\n",
              "      <td>2.657895</td>\n",
              "      <td>349.938323</td>\n",
              "      <td>17.005210</td>\n",
              "      <td>4.777992e+08</td>\n",
              "      <td>2.470389e+06</td>\n",
              "      <td>1.872628e+06</td>\n",
              "      <td>...</td>\n",
              "      <td>7.744980e+06</td>\n",
              "      <td>1.620164e+06</td>\n",
              "      <td>1.061271e-14</td>\n",
              "      <td>9.200261e-28</td>\n",
              "      <td>5.521390e-12</td>\n",
              "      <td>1.059702e+07</td>\n",
              "      <td>1.356222e+06</td>\n",
              "      <td>1.062533e-14</td>\n",
              "      <td>1.503564e-27</td>\n",
              "      <td>7.042181e-12</td>\n",
              "    </tr>\n",
              "    <tr>\n",
              "      <th>75%</th>\n",
              "      <td>257.772109</td>\n",
              "      <td>758.297463</td>\n",
              "      <td>193.682337</td>\n",
              "      <td>40.815722</td>\n",
              "      <td>19.179475</td>\n",
              "      <td>476.299101</td>\n",
              "      <td>28.608417</td>\n",
              "      <td>7.477595e+08</td>\n",
              "      <td>7.668586e+06</td>\n",
              "      <td>1.221293e+07</td>\n",
              "      <td>...</td>\n",
              "      <td>2.693589e+07</td>\n",
              "      <td>1.071371e+07</td>\n",
              "      <td>3.272321e-14</td>\n",
              "      <td>5.545136e-26</td>\n",
              "      <td>1.055391e-11</td>\n",
              "      <td>3.932619e+07</td>\n",
              "      <td>9.048577e+06</td>\n",
              "      <td>3.280904e-14</td>\n",
              "      <td>8.259448e-26</td>\n",
              "      <td>1.334680e-11</td>\n",
              "    </tr>\n",
              "    <tr>\n",
              "      <th>max</th>\n",
              "      <td>1195.787212</td>\n",
              "      <td>999.773967</td>\n",
              "      <td>234.883842</td>\n",
              "      <td>49.992126</td>\n",
              "      <td>299.880837</td>\n",
              "      <td>599.954225</td>\n",
              "      <td>39.995581</td>\n",
              "      <td>9.994946e+08</td>\n",
              "      <td>8.115660e+07</td>\n",
              "      <td>1.467439e+09</td>\n",
              "      <td>...</td>\n",
              "      <td>3.675392e+08</td>\n",
              "      <td>1.207506e+09</td>\n",
              "      <td>4.327311e-13</td>\n",
              "      <td>1.952995e-20</td>\n",
              "      <td>7.927833e-11</td>\n",
              "      <td>4.399336e+08</td>\n",
              "      <td>2.734598e+09</td>\n",
              "      <td>4.327028e-13</td>\n",
              "      <td>9.359624e-21</td>\n",
              "      <td>1.112834e-10</td>\n",
              "    </tr>\n",
              "  </tbody>\n",
              "</table>\n",
              "<p>8 rows × 28 columns</p>\n",
              "</div>\n",
              "      <button class=\"colab-df-convert\" onclick=\"convertToInteractive('df-20ed3436-c74d-4f9f-a77d-79a49ac0e59a')\"\n",
              "              title=\"Convert this dataframe to an interactive table.\"\n",
              "              style=\"display:none;\">\n",
              "        \n",
              "  <svg xmlns=\"http://www.w3.org/2000/svg\" height=\"24px\"viewBox=\"0 0 24 24\"\n",
              "       width=\"24px\">\n",
              "    <path d=\"M0 0h24v24H0V0z\" fill=\"none\"/>\n",
              "    <path d=\"M18.56 5.44l.94 2.06.94-2.06 2.06-.94-2.06-.94-.94-2.06-.94 2.06-2.06.94zm-11 1L8.5 8.5l.94-2.06 2.06-.94-2.06-.94L8.5 2.5l-.94 2.06-2.06.94zm10 10l.94 2.06.94-2.06 2.06-.94-2.06-.94-.94-2.06-.94 2.06-2.06.94z\"/><path d=\"M17.41 7.96l-1.37-1.37c-.4-.4-.92-.59-1.43-.59-.52 0-1.04.2-1.43.59L10.3 9.45l-7.72 7.72c-.78.78-.78 2.05 0 2.83L4 21.41c.39.39.9.59 1.41.59.51 0 1.02-.2 1.41-.59l7.78-7.78 2.81-2.81c.8-.78.8-2.07 0-2.86zM5.41 20L4 18.59l7.72-7.72 1.47 1.35L5.41 20z\"/>\n",
              "  </svg>\n",
              "      </button>\n",
              "      \n",
              "  <style>\n",
              "    .colab-df-container {\n",
              "      display:flex;\n",
              "      flex-wrap:wrap;\n",
              "      gap: 12px;\n",
              "    }\n",
              "\n",
              "    .colab-df-convert {\n",
              "      background-color: #E8F0FE;\n",
              "      border: none;\n",
              "      border-radius: 50%;\n",
              "      cursor: pointer;\n",
              "      display: none;\n",
              "      fill: #1967D2;\n",
              "      height: 32px;\n",
              "      padding: 0 0 0 0;\n",
              "      width: 32px;\n",
              "    }\n",
              "\n",
              "    .colab-df-convert:hover {\n",
              "      background-color: #E2EBFA;\n",
              "      box-shadow: 0px 1px 2px rgba(60, 64, 67, 0.3), 0px 1px 3px 1px rgba(60, 64, 67, 0.15);\n",
              "      fill: #174EA6;\n",
              "    }\n",
              "\n",
              "    [theme=dark] .colab-df-convert {\n",
              "      background-color: #3B4455;\n",
              "      fill: #D2E3FC;\n",
              "    }\n",
              "\n",
              "    [theme=dark] .colab-df-convert:hover {\n",
              "      background-color: #434B5C;\n",
              "      box-shadow: 0px 1px 3px 1px rgba(0, 0, 0, 0.15);\n",
              "      filter: drop-shadow(0px 1px 2px rgba(0, 0, 0, 0.3));\n",
              "      fill: #FFFFFF;\n",
              "    }\n",
              "  </style>\n",
              "\n",
              "      <script>\n",
              "        const buttonEl =\n",
              "          document.querySelector('#df-20ed3436-c74d-4f9f-a77d-79a49ac0e59a button.colab-df-convert');\n",
              "        buttonEl.style.display =\n",
              "          google.colab.kernel.accessAllowed ? 'block' : 'none';\n",
              "\n",
              "        async function convertToInteractive(key) {\n",
              "          const element = document.querySelector('#df-20ed3436-c74d-4f9f-a77d-79a49ac0e59a');\n",
              "          const dataTable =\n",
              "            await google.colab.kernel.invokeFunction('convertToInteractive',\n",
              "                                                     [key], {});\n",
              "          if (!dataTable) return;\n",
              "\n",
              "          const docLinkHtml = 'Like what you see? Visit the ' +\n",
              "            '<a target=\"_blank\" href=https://colab.research.google.com/notebooks/data_table.ipynb>data table notebook</a>'\n",
              "            + ' to learn more about interactive tables.';\n",
              "          element.innerHTML = '';\n",
              "          dataTable['output_type'] = 'display_data';\n",
              "          await google.colab.output.renderOutput(dataTable, element);\n",
              "          const docLink = document.createElement('div');\n",
              "          docLink.innerHTML = docLinkHtml;\n",
              "          element.appendChild(docLink);\n",
              "        }\n",
              "      </script>\n",
              "    </div>\n",
              "  </div>\n",
              "  "
            ]
          },
          "metadata": {},
          "execution_count": 12
        }
      ]
    },
    {
      "cell_type": "markdown",
      "source": [
        "Задаем ограничения на значения параметров:"
      ],
      "metadata": {
        "id": "WP5EBMkX8cst"
      }
    },
    {
      "cell_type": "code",
      "source": [
        "# Раскомментируйте для применения пределов для параметров\n",
        "param_limits = {#'Eigenfrequency (Hz)': [0, 3e7],\n",
        "                #'Quality factor': [0, 5e8],\n",
        "                #'TED (W)': [1e-20, 1]\n",
        "                }\n",
        "\n",
        "print('Dataset length before setting limits is {length}'.format(length=data.shape[0]))\n",
        "data_lim = set_param_limits(data, param_limits)\n",
        "print('Dataset length after setting limits is {length}'.format(length=data_lim.shape[0]))"
      ],
      "metadata": {
        "colab": {
          "base_uri": "https://localhost:8080/"
        },
        "id": "3NdmYzvdWYOe",
        "outputId": "7afd7965-dc1e-4714-d663-94057f56e90b"
      },
      "execution_count": null,
      "outputs": [
        {
          "output_type": "stream",
          "name": "stdout",
          "text": [
            "Dataset length before setting limits is 4909\n",
            "Dataset length after setting limits is 4909\n"
          ]
        }
      ]
    },
    {
      "cell_type": "code",
      "source": [
        "data_lim.describe()"
      ],
      "metadata": {
        "colab": {
          "base_uri": "https://localhost:8080/"
        },
        "id": "9Ul0idALWx1D",
        "outputId": "e8b9883c-7720-4643-de92-69a7bb54371a"
      },
      "execution_count": null,
      "outputs": [
        {
          "output_type": "execute_result",
          "data": {
            "text/plain": [
              "       Beam length (um)  Beam width (nm)  Thickness_1 (nm)  Thickness_2 (nm)  \\\n",
              "count       4909.000000      4909.000000       4909.000000       4909.000000   \n",
              "mean         195.469415       529.097516        150.819856         30.404340   \n",
              "std          238.666890       269.281493         41.982835         11.712403   \n",
              "min           10.006357        50.114701         66.096716         10.055810   \n",
              "25%           36.605352       298.766024        107.242205         20.117549   \n",
              "50%           97.149246       526.461810        150.537470         30.610468   \n",
              "75%          257.772109       758.297463        193.682337         40.815722   \n",
              "max         1195.787212       999.773967        234.883842         49.992126   \n",
              "\n",
              "       Temperature (K)  Distance (nm)  Gate voltage (V)  Pretension (Pa)  \\\n",
              "count      4909.000000    4909.000000       4909.000000     4.909000e+03   \n",
              "mean         23.742353     349.708484         17.227796     4.712346e+08   \n",
              "std          49.683629     145.560699         12.786909     3.190863e+08   \n",
              "min           0.010004     100.222269          0.000000     0.000000e+00   \n",
              "25%           0.309281     220.216016          5.140889     2.366180e+08   \n",
              "50%           2.657895     349.938323         17.005210     4.777992e+08   \n",
              "75%          19.179475     476.299101         28.608417     7.477595e+08   \n",
              "max         299.880837     599.954225         39.995581     9.994946e+08   \n",
              "\n",
              "       M1 Eigenfrequency (Hz)  M1 Quality factor (1)  ...  \\\n",
              "count            4.909000e+03           4.909000e+03  ...   \n",
              "mean             6.988914e+06           2.502643e+07  ...   \n",
              "std              1.098401e+07           8.329148e+07  ...   \n",
              "min              3.840254e+04           1.409866e+03  ...   \n",
              "25%              8.730700e+05           2.943045e+05  ...   \n",
              "50%              2.470389e+06           1.872628e+06  ...   \n",
              "75%              7.668586e+06           1.221293e+07  ...   \n",
              "max              8.115660e+07           1.467439e+09  ...   \n",
              "\n",
              "       M3 Eigenfrequency (Hz)  M3 Quality factor (1)  M3 Effective mass  \\\n",
              "count            4.909000e+03           4.909000e+03       4.909000e+03   \n",
              "mean             2.804685e+07           2.219908e+07       2.808115e-14   \n",
              "std              5.009151e+07           7.344745e+07       4.388424e-14   \n",
              "min              1.153109e+05           1.409853e+03       1.263636e-16   \n",
              "25%              2.650417e+06           2.537637e+05       3.638416e-15   \n",
              "50%              7.744980e+06           1.620164e+06       1.061271e-14   \n",
              "75%              2.693589e+07           1.071371e+07       3.272321e-14   \n",
              "max              3.675392e+08           1.207506e+09       4.327311e-13   \n",
              "\n",
              "       M3 Noise (kg^2 / s^3)    M3 TED (W)  M4 Eigenfrequency (Hz)  \\\n",
              "count           4.909000e+03  4.909000e+03            4.909000e+03   \n",
              "mean            2.014207e-23  7.943504e-12            4.173375e+07   \n",
              "std             3.843014e-22  7.561086e-12            7.418109e+07   \n",
              "min             8.801085e-34  3.347321e-14            1.538710e+05   \n",
              "25%             1.125043e-29  2.898015e-12            3.557429e+06   \n",
              "50%             9.200261e-28  5.521390e-12            1.059702e+07   \n",
              "75%             5.545136e-26  1.055391e-11            3.932619e+07   \n",
              "max             1.952995e-20  7.927833e-11            4.399336e+08   \n",
              "\n",
              "       M4 Quality factor (1)  M4 Effective mass  M4 Noise (kg^2 / s^3)  \\\n",
              "count           4.909000e+03       4.909000e+03           4.909000e+03   \n",
              "mean            2.115728e+07       2.806848e-14           1.691331e-23   \n",
              "std             8.666440e+07       4.391170e-14           2.545723e-22   \n",
              "min             1.409842e+03       1.266484e-16           9.123322e-34   \n",
              "25%             2.296537e+05       3.614451e-15           1.998218e-29   \n",
              "50%             1.356222e+06       1.062533e-14           1.503564e-27   \n",
              "75%             9.048577e+06       3.280904e-14           8.259448e-26   \n",
              "max             2.734598e+09       4.327028e-13           9.359624e-21   \n",
              "\n",
              "         M4 TED (W)  \n",
              "count  4.909000e+03  \n",
              "mean   1.017113e-11  \n",
              "std    9.704030e-12  \n",
              "min    7.378453e-14  \n",
              "25%    3.819665e-12  \n",
              "50%    7.042181e-12  \n",
              "75%    1.334680e-11  \n",
              "max    1.112834e-10  \n",
              "\n",
              "[8 rows x 28 columns]"
            ],
            "text/html": [
              "\n",
              "  <div id=\"df-b7b02ad8-6460-43b1-8707-2950398de0cb\">\n",
              "    <div class=\"colab-df-container\">\n",
              "      <div>\n",
              "<style scoped>\n",
              "    .dataframe tbody tr th:only-of-type {\n",
              "        vertical-align: middle;\n",
              "    }\n",
              "\n",
              "    .dataframe tbody tr th {\n",
              "        vertical-align: top;\n",
              "    }\n",
              "\n",
              "    .dataframe thead th {\n",
              "        text-align: right;\n",
              "    }\n",
              "</style>\n",
              "<table border=\"1\" class=\"dataframe\">\n",
              "  <thead>\n",
              "    <tr style=\"text-align: right;\">\n",
              "      <th></th>\n",
              "      <th>Beam length (um)</th>\n",
              "      <th>Beam width (nm)</th>\n",
              "      <th>Thickness_1 (nm)</th>\n",
              "      <th>Thickness_2 (nm)</th>\n",
              "      <th>Temperature (K)</th>\n",
              "      <th>Distance (nm)</th>\n",
              "      <th>Gate voltage (V)</th>\n",
              "      <th>Pretension (Pa)</th>\n",
              "      <th>M1 Eigenfrequency (Hz)</th>\n",
              "      <th>M1 Quality factor (1)</th>\n",
              "      <th>...</th>\n",
              "      <th>M3 Eigenfrequency (Hz)</th>\n",
              "      <th>M3 Quality factor (1)</th>\n",
              "      <th>M3 Effective mass</th>\n",
              "      <th>M3 Noise (kg^2 / s^3)</th>\n",
              "      <th>M3 TED (W)</th>\n",
              "      <th>M4 Eigenfrequency (Hz)</th>\n",
              "      <th>M4 Quality factor (1)</th>\n",
              "      <th>M4 Effective mass</th>\n",
              "      <th>M4 Noise (kg^2 / s^3)</th>\n",
              "      <th>M4 TED (W)</th>\n",
              "    </tr>\n",
              "  </thead>\n",
              "  <tbody>\n",
              "    <tr>\n",
              "      <th>count</th>\n",
              "      <td>4909.000000</td>\n",
              "      <td>4909.000000</td>\n",
              "      <td>4909.000000</td>\n",
              "      <td>4909.000000</td>\n",
              "      <td>4909.000000</td>\n",
              "      <td>4909.000000</td>\n",
              "      <td>4909.000000</td>\n",
              "      <td>4.909000e+03</td>\n",
              "      <td>4.909000e+03</td>\n",
              "      <td>4.909000e+03</td>\n",
              "      <td>...</td>\n",
              "      <td>4.909000e+03</td>\n",
              "      <td>4.909000e+03</td>\n",
              "      <td>4.909000e+03</td>\n",
              "      <td>4.909000e+03</td>\n",
              "      <td>4.909000e+03</td>\n",
              "      <td>4.909000e+03</td>\n",
              "      <td>4.909000e+03</td>\n",
              "      <td>4.909000e+03</td>\n",
              "      <td>4.909000e+03</td>\n",
              "      <td>4.909000e+03</td>\n",
              "    </tr>\n",
              "    <tr>\n",
              "      <th>mean</th>\n",
              "      <td>195.469415</td>\n",
              "      <td>529.097516</td>\n",
              "      <td>150.819856</td>\n",
              "      <td>30.404340</td>\n",
              "      <td>23.742353</td>\n",
              "      <td>349.708484</td>\n",
              "      <td>17.227796</td>\n",
              "      <td>4.712346e+08</td>\n",
              "      <td>6.988914e+06</td>\n",
              "      <td>2.502643e+07</td>\n",
              "      <td>...</td>\n",
              "      <td>2.804685e+07</td>\n",
              "      <td>2.219908e+07</td>\n",
              "      <td>2.808115e-14</td>\n",
              "      <td>2.014207e-23</td>\n",
              "      <td>7.943504e-12</td>\n",
              "      <td>4.173375e+07</td>\n",
              "      <td>2.115728e+07</td>\n",
              "      <td>2.806848e-14</td>\n",
              "      <td>1.691331e-23</td>\n",
              "      <td>1.017113e-11</td>\n",
              "    </tr>\n",
              "    <tr>\n",
              "      <th>std</th>\n",
              "      <td>238.666890</td>\n",
              "      <td>269.281493</td>\n",
              "      <td>41.982835</td>\n",
              "      <td>11.712403</td>\n",
              "      <td>49.683629</td>\n",
              "      <td>145.560699</td>\n",
              "      <td>12.786909</td>\n",
              "      <td>3.190863e+08</td>\n",
              "      <td>1.098401e+07</td>\n",
              "      <td>8.329148e+07</td>\n",
              "      <td>...</td>\n",
              "      <td>5.009151e+07</td>\n",
              "      <td>7.344745e+07</td>\n",
              "      <td>4.388424e-14</td>\n",
              "      <td>3.843014e-22</td>\n",
              "      <td>7.561086e-12</td>\n",
              "      <td>7.418109e+07</td>\n",
              "      <td>8.666440e+07</td>\n",
              "      <td>4.391170e-14</td>\n",
              "      <td>2.545723e-22</td>\n",
              "      <td>9.704030e-12</td>\n",
              "    </tr>\n",
              "    <tr>\n",
              "      <th>min</th>\n",
              "      <td>10.006357</td>\n",
              "      <td>50.114701</td>\n",
              "      <td>66.096716</td>\n",
              "      <td>10.055810</td>\n",
              "      <td>0.010004</td>\n",
              "      <td>100.222269</td>\n",
              "      <td>0.000000</td>\n",
              "      <td>0.000000e+00</td>\n",
              "      <td>3.840254e+04</td>\n",
              "      <td>1.409866e+03</td>\n",
              "      <td>...</td>\n",
              "      <td>1.153109e+05</td>\n",
              "      <td>1.409853e+03</td>\n",
              "      <td>1.263636e-16</td>\n",
              "      <td>8.801085e-34</td>\n",
              "      <td>3.347321e-14</td>\n",
              "      <td>1.538710e+05</td>\n",
              "      <td>1.409842e+03</td>\n",
              "      <td>1.266484e-16</td>\n",
              "      <td>9.123322e-34</td>\n",
              "      <td>7.378453e-14</td>\n",
              "    </tr>\n",
              "    <tr>\n",
              "      <th>25%</th>\n",
              "      <td>36.605352</td>\n",
              "      <td>298.766024</td>\n",
              "      <td>107.242205</td>\n",
              "      <td>20.117549</td>\n",
              "      <td>0.309281</td>\n",
              "      <td>220.216016</td>\n",
              "      <td>5.140889</td>\n",
              "      <td>2.366180e+08</td>\n",
              "      <td>8.730700e+05</td>\n",
              "      <td>2.943045e+05</td>\n",
              "      <td>...</td>\n",
              "      <td>2.650417e+06</td>\n",
              "      <td>2.537637e+05</td>\n",
              "      <td>3.638416e-15</td>\n",
              "      <td>1.125043e-29</td>\n",
              "      <td>2.898015e-12</td>\n",
              "      <td>3.557429e+06</td>\n",
              "      <td>2.296537e+05</td>\n",
              "      <td>3.614451e-15</td>\n",
              "      <td>1.998218e-29</td>\n",
              "      <td>3.819665e-12</td>\n",
              "    </tr>\n",
              "    <tr>\n",
              "      <th>50%</th>\n",
              "      <td>97.149246</td>\n",
              "      <td>526.461810</td>\n",
              "      <td>150.537470</td>\n",
              "      <td>30.610468</td>\n",
              "      <td>2.657895</td>\n",
              "      <td>349.938323</td>\n",
              "      <td>17.005210</td>\n",
              "      <td>4.777992e+08</td>\n",
              "      <td>2.470389e+06</td>\n",
              "      <td>1.872628e+06</td>\n",
              "      <td>...</td>\n",
              "      <td>7.744980e+06</td>\n",
              "      <td>1.620164e+06</td>\n",
              "      <td>1.061271e-14</td>\n",
              "      <td>9.200261e-28</td>\n",
              "      <td>5.521390e-12</td>\n",
              "      <td>1.059702e+07</td>\n",
              "      <td>1.356222e+06</td>\n",
              "      <td>1.062533e-14</td>\n",
              "      <td>1.503564e-27</td>\n",
              "      <td>7.042181e-12</td>\n",
              "    </tr>\n",
              "    <tr>\n",
              "      <th>75%</th>\n",
              "      <td>257.772109</td>\n",
              "      <td>758.297463</td>\n",
              "      <td>193.682337</td>\n",
              "      <td>40.815722</td>\n",
              "      <td>19.179475</td>\n",
              "      <td>476.299101</td>\n",
              "      <td>28.608417</td>\n",
              "      <td>7.477595e+08</td>\n",
              "      <td>7.668586e+06</td>\n",
              "      <td>1.221293e+07</td>\n",
              "      <td>...</td>\n",
              "      <td>2.693589e+07</td>\n",
              "      <td>1.071371e+07</td>\n",
              "      <td>3.272321e-14</td>\n",
              "      <td>5.545136e-26</td>\n",
              "      <td>1.055391e-11</td>\n",
              "      <td>3.932619e+07</td>\n",
              "      <td>9.048577e+06</td>\n",
              "      <td>3.280904e-14</td>\n",
              "      <td>8.259448e-26</td>\n",
              "      <td>1.334680e-11</td>\n",
              "    </tr>\n",
              "    <tr>\n",
              "      <th>max</th>\n",
              "      <td>1195.787212</td>\n",
              "      <td>999.773967</td>\n",
              "      <td>234.883842</td>\n",
              "      <td>49.992126</td>\n",
              "      <td>299.880837</td>\n",
              "      <td>599.954225</td>\n",
              "      <td>39.995581</td>\n",
              "      <td>9.994946e+08</td>\n",
              "      <td>8.115660e+07</td>\n",
              "      <td>1.467439e+09</td>\n",
              "      <td>...</td>\n",
              "      <td>3.675392e+08</td>\n",
              "      <td>1.207506e+09</td>\n",
              "      <td>4.327311e-13</td>\n",
              "      <td>1.952995e-20</td>\n",
              "      <td>7.927833e-11</td>\n",
              "      <td>4.399336e+08</td>\n",
              "      <td>2.734598e+09</td>\n",
              "      <td>4.327028e-13</td>\n",
              "      <td>9.359624e-21</td>\n",
              "      <td>1.112834e-10</td>\n",
              "    </tr>\n",
              "  </tbody>\n",
              "</table>\n",
              "<p>8 rows × 28 columns</p>\n",
              "</div>\n",
              "      <button class=\"colab-df-convert\" onclick=\"convertToInteractive('df-b7b02ad8-6460-43b1-8707-2950398de0cb')\"\n",
              "              title=\"Convert this dataframe to an interactive table.\"\n",
              "              style=\"display:none;\">\n",
              "        \n",
              "  <svg xmlns=\"http://www.w3.org/2000/svg\" height=\"24px\"viewBox=\"0 0 24 24\"\n",
              "       width=\"24px\">\n",
              "    <path d=\"M0 0h24v24H0V0z\" fill=\"none\"/>\n",
              "    <path d=\"M18.56 5.44l.94 2.06.94-2.06 2.06-.94-2.06-.94-.94-2.06-.94 2.06-2.06.94zm-11 1L8.5 8.5l.94-2.06 2.06-.94-2.06-.94L8.5 2.5l-.94 2.06-2.06.94zm10 10l.94 2.06.94-2.06 2.06-.94-2.06-.94-.94-2.06-.94 2.06-2.06.94z\"/><path d=\"M17.41 7.96l-1.37-1.37c-.4-.4-.92-.59-1.43-.59-.52 0-1.04.2-1.43.59L10.3 9.45l-7.72 7.72c-.78.78-.78 2.05 0 2.83L4 21.41c.39.39.9.59 1.41.59.51 0 1.02-.2 1.41-.59l7.78-7.78 2.81-2.81c.8-.78.8-2.07 0-2.86zM5.41 20L4 18.59l7.72-7.72 1.47 1.35L5.41 20z\"/>\n",
              "  </svg>\n",
              "      </button>\n",
              "      \n",
              "  <style>\n",
              "    .colab-df-container {\n",
              "      display:flex;\n",
              "      flex-wrap:wrap;\n",
              "      gap: 12px;\n",
              "    }\n",
              "\n",
              "    .colab-df-convert {\n",
              "      background-color: #E8F0FE;\n",
              "      border: none;\n",
              "      border-radius: 50%;\n",
              "      cursor: pointer;\n",
              "      display: none;\n",
              "      fill: #1967D2;\n",
              "      height: 32px;\n",
              "      padding: 0 0 0 0;\n",
              "      width: 32px;\n",
              "    }\n",
              "\n",
              "    .colab-df-convert:hover {\n",
              "      background-color: #E2EBFA;\n",
              "      box-shadow: 0px 1px 2px rgba(60, 64, 67, 0.3), 0px 1px 3px 1px rgba(60, 64, 67, 0.15);\n",
              "      fill: #174EA6;\n",
              "    }\n",
              "\n",
              "    [theme=dark] .colab-df-convert {\n",
              "      background-color: #3B4455;\n",
              "      fill: #D2E3FC;\n",
              "    }\n",
              "\n",
              "    [theme=dark] .colab-df-convert:hover {\n",
              "      background-color: #434B5C;\n",
              "      box-shadow: 0px 1px 3px 1px rgba(0, 0, 0, 0.15);\n",
              "      filter: drop-shadow(0px 1px 2px rgba(0, 0, 0, 0.3));\n",
              "      fill: #FFFFFF;\n",
              "    }\n",
              "  </style>\n",
              "\n",
              "      <script>\n",
              "        const buttonEl =\n",
              "          document.querySelector('#df-b7b02ad8-6460-43b1-8707-2950398de0cb button.colab-df-convert');\n",
              "        buttonEl.style.display =\n",
              "          google.colab.kernel.accessAllowed ? 'block' : 'none';\n",
              "\n",
              "        async function convertToInteractive(key) {\n",
              "          const element = document.querySelector('#df-b7b02ad8-6460-43b1-8707-2950398de0cb');\n",
              "          const dataTable =\n",
              "            await google.colab.kernel.invokeFunction('convertToInteractive',\n",
              "                                                     [key], {});\n",
              "          if (!dataTable) return;\n",
              "\n",
              "          const docLinkHtml = 'Like what you see? Visit the ' +\n",
              "            '<a target=\"_blank\" href=https://colab.research.google.com/notebooks/data_table.ipynb>data table notebook</a>'\n",
              "            + ' to learn more about interactive tables.';\n",
              "          element.innerHTML = '';\n",
              "          dataTable['output_type'] = 'display_data';\n",
              "          await google.colab.output.renderOutput(dataTable, element);\n",
              "          const docLink = document.createElement('div');\n",
              "          docLink.innerHTML = docLinkHtml;\n",
              "          element.appendChild(docLink);\n",
              "        }\n",
              "      </script>\n",
              "    </div>\n",
              "  </div>\n",
              "  "
            ]
          },
          "metadata": {},
          "execution_count": 14
        }
      ]
    },
    {
      "cell_type": "markdown",
      "source": [
        "Дополнительно: еще раз изменим тип всех данных на `float`:"
      ],
      "metadata": {
        "id": "UzP5vdTRRQSj"
      }
    },
    {
      "cell_type": "markdown",
      "source": [
        "# Сохраним датасет на диск:"
      ],
      "metadata": {
        "id": "vqHf3O1Wfx98"
      }
    },
    {
      "cell_type": "markdown",
      "source": [
        "На всякий случай ещё раз переименовываем названия столбцов:"
      ],
      "metadata": {
        "id": "i-dMnR3dXItO"
      }
    },
    {
      "cell_type": "code",
      "source": [
        "data_lim.columns = ['Beam length (um)', 'Beam width (nm)', 'Thickness_1 (nm)', 'Thickness_2 (nm)',\n",
        "                    'Temperature (K)', 'Distance (nm)', 'Gate voltage (V)', 'Pretension (Pa)',\n",
        "                    'M1 Eigenfrequency (Hz)', 'M1 Quality factor', 'M1 Effective mass (kg)', 'M1 Noise (kg^2/s^3)', 'M1 TED (W)',\n",
        "                    'M2 Eigenfrequency (Hz)', 'M2 Quality factor', 'M2 Effective mass (kg)', 'M2 Noise (kg^2/s^3)', 'M2 TED (W)',\n",
        "                    'M3 Eigenfrequency (Hz)', 'M3 Quality factor', 'M3 Effective mass (kg)', 'M3 Noise (kg^2/s^3)', 'M3 TED (W)',\n",
        "                    'M4 Eigenfrequency (Hz)', 'M4 Quality factor', 'M4 Effective mass (kg)', 'M4 Noise (kg^2/s^3)', 'M4 TED (W)']"
      ],
      "metadata": {
        "id": "pTyFjYvpX6Xn"
      },
      "execution_count": null,
      "outputs": []
    },
    {
      "cell_type": "code",
      "source": [
        "data_lim.to_csv('Dataset_Processed.csv')"
      ],
      "metadata": {
        "id": "lCYVwbgEnjS2"
      },
      "execution_count": null,
      "outputs": []
    },
    {
      "cell_type": "markdown",
      "source": [
        "# Добавление вклада термоупругих потерь"
      ],
      "metadata": {
        "id": "rmlOAPrLoW_1"
      }
    },
    {
      "cell_type": "markdown",
      "source": [
        "Подмешаем к добротности в датасете добротность согласно приближению Roukes:"
      ],
      "metadata": {
        "id": "3kzd-bp-obi2"
      }
    },
    {
      "cell_type": "code",
      "source": [
        "# Fundamental properties:\n",
        "rho = [3100, 2700] # density of matter\n",
        "E = [250e9, 70e9] # Young's modulus\n",
        "k = [20, 237] # Thermal conductivity constant\n",
        "alpha = [2.3e-6, 23.1e-6] # Thermal expansion coefficient\n",
        "\n",
        "# Calculated properties:\n",
        "Cp = [700, 904] # heat capacity at constant pressure"
      ],
      "metadata": {
        "id": "iVzJQGp9qeIc"
      },
      "execution_count": null,
      "outputs": []
    },
    {
      "cell_type": "code",
      "source": [
        "def calculate_Q_TED(df):\n",
        "    param_history = {'Cp_av': [], 'E_av': [], 'rho_av': [], 'k_av': [], 'alpha_av': [], 'xi_av': [], 'chi': [], 'Q_ted': []}\n",
        "    for row_index in range(0, df.shape[0]):\n",
        "        # Calculating average properties of beam:\n",
        "        Cp_av = (Cp[0] * df.iloc[row_index, 2] + Cp[1] * df.iloc[row_index, 3]) / (df.iloc[row_index, 2] + df.iloc[row_index, 3])\n",
        "        E_av = (E[0] * df.iloc[row_index, 2] + E[1] * df.iloc[row_index, 3]) / (df.iloc[row_index, 2] + df.iloc[row_index, 3])\n",
        "        rho_av = (rho[0] * df.iloc[row_index, 2] + rho[1] * df.iloc[row_index, 3]) / (df.iloc[row_index, 2] + df.iloc[row_index, 3])\n",
        "        k_av = (k[0] * df.iloc[row_index, 2] + k[1] * df.iloc[row_index, 3]) / (df.iloc[row_index, 2] + df.iloc[row_index, 3])\n",
        "        alpha_av = (alpha[0] * df.iloc[row_index, 2] + alpha[1] * df.iloc[row_index, 3]) / (df.iloc[row_index, 2] + df.iloc[row_index, 3])\n",
        "        xi_av = k_av / (rho_av * Cp_av)\n",
        "        param_history['Cp_av'].append(Cp_av)\n",
        "        param_history['E_av'].append(E_av)\n",
        "        param_history['rho_av'].append(rho_av)\n",
        "        param_history['k_av'].append(k_av)\n",
        "        param_history['alpha_av'].append(alpha_av)\n",
        "        param_history['xi_av'].append(xi_av)\n",
        "\n",
        "        for mode_number in range(1, 5):\n",
        "            # Calculating TED quality factor:\n",
        "            chi = df.iloc[row_index, 1] * 1e-9 * np.sqrt(2 * 3.1415 * df.loc[df.index[row_index], f'M{mode_number} Eigenfrequency (Hz)'] / (2 * xi_av))\n",
        "            delta_ted = (E_av * alpha_av **2 * df.iloc[row_index, 4]) / (Cp_av * rho_av) * (6/(chi**2) - 6 * (np.sinh(chi) + np.sin(chi))/(chi**3 * (np.cosh(chi) + np.cos(chi))))\n",
        "            df.loc[df.index[row_index], f'M{mode_number} Quality factor'] = 1/(1/df.loc[df.index[row_index], f'M{mode_number} Quality factor'] + delta_ted)\n",
        "\n",
        "            param_history['chi'].append(chi)\n",
        "            param_history['Q_ted'].append(1/delta_ted)\n",
        "\n",
        "    return df, param_history"
      ],
      "metadata": {
        "id": "iMPoydXNoa3i"
      },
      "execution_count": null,
      "outputs": []
    },
    {
      "cell_type": "code",
      "source": [
        "print(data_catched.shape[0])\n",
        "data_ted, history = calculate_Q_TED(data_catched)"
      ],
      "metadata": {
        "id": "gW4Lyw70uF28",
        "colab": {
          "base_uri": "https://localhost:8080/",
          "height": 519
        },
        "outputId": "f69aaa3a-78ad-4dc6-d0fa-353c8f451d06"
      },
      "execution_count": null,
      "outputs": [
        {
          "output_type": "stream",
          "name": "stdout",
          "text": [
            "4909\n"
          ]
        },
        {
          "output_type": "error",
          "ename": "KeyError",
          "evalue": "ignored",
          "traceback": [
            "\u001b[0;31m---------------------------------------------------------------------------\u001b[0m",
            "\u001b[0;31mKeyError\u001b[0m                                  Traceback (most recent call last)",
            "\u001b[0;32m/usr/local/lib/python3.10/dist-packages/pandas/core/indexes/base.py\u001b[0m in \u001b[0;36mget_loc\u001b[0;34m(self, key, method, tolerance)\u001b[0m\n\u001b[1;32m   3801\u001b[0m             \u001b[0;32mtry\u001b[0m\u001b[0;34m:\u001b[0m\u001b[0;34m\u001b[0m\u001b[0;34m\u001b[0m\u001b[0m\n\u001b[0;32m-> 3802\u001b[0;31m                 \u001b[0;32mreturn\u001b[0m \u001b[0mself\u001b[0m\u001b[0;34m.\u001b[0m\u001b[0m_engine\u001b[0m\u001b[0;34m.\u001b[0m\u001b[0mget_loc\u001b[0m\u001b[0;34m(\u001b[0m\u001b[0mcasted_key\u001b[0m\u001b[0;34m)\u001b[0m\u001b[0;34m\u001b[0m\u001b[0;34m\u001b[0m\u001b[0m\n\u001b[0m\u001b[1;32m   3803\u001b[0m             \u001b[0;32mexcept\u001b[0m \u001b[0mKeyError\u001b[0m \u001b[0;32mas\u001b[0m \u001b[0merr\u001b[0m\u001b[0;34m:\u001b[0m\u001b[0;34m\u001b[0m\u001b[0;34m\u001b[0m\u001b[0m\n",
            "\u001b[0;32m/usr/local/lib/python3.10/dist-packages/pandas/_libs/index.pyx\u001b[0m in \u001b[0;36mpandas._libs.index.IndexEngine.get_loc\u001b[0;34m()\u001b[0m\n",
            "\u001b[0;32m/usr/local/lib/python3.10/dist-packages/pandas/_libs/index.pyx\u001b[0m in \u001b[0;36mpandas._libs.index.IndexEngine.get_loc\u001b[0;34m()\u001b[0m\n",
            "\u001b[0;32mpandas/_libs/hashtable_class_helper.pxi\u001b[0m in \u001b[0;36mpandas._libs.hashtable.PyObjectHashTable.get_item\u001b[0;34m()\u001b[0m\n",
            "\u001b[0;32mpandas/_libs/hashtable_class_helper.pxi\u001b[0m in \u001b[0;36mpandas._libs.hashtable.PyObjectHashTable.get_item\u001b[0;34m()\u001b[0m\n",
            "\u001b[0;31mKeyError\u001b[0m: 'M1 Quality factor'",
            "\nThe above exception was the direct cause of the following exception:\n",
            "\u001b[0;31mKeyError\u001b[0m                                  Traceback (most recent call last)",
            "\u001b[0;32m<ipython-input-24-e5c2fea8e985>\u001b[0m in \u001b[0;36m<cell line: 2>\u001b[0;34m()\u001b[0m\n\u001b[1;32m      1\u001b[0m \u001b[0mprint\u001b[0m\u001b[0;34m(\u001b[0m\u001b[0mdata_catched\u001b[0m\u001b[0;34m.\u001b[0m\u001b[0mshape\u001b[0m\u001b[0;34m[\u001b[0m\u001b[0;36m0\u001b[0m\u001b[0;34m]\u001b[0m\u001b[0;34m)\u001b[0m\u001b[0;34m\u001b[0m\u001b[0;34m\u001b[0m\u001b[0m\n\u001b[0;32m----> 2\u001b[0;31m \u001b[0mdata_ted\u001b[0m\u001b[0;34m,\u001b[0m \u001b[0mhistory\u001b[0m \u001b[0;34m=\u001b[0m \u001b[0mcalculate_Q_TED\u001b[0m\u001b[0;34m(\u001b[0m\u001b[0mdata_catched\u001b[0m\u001b[0;34m)\u001b[0m\u001b[0;34m\u001b[0m\u001b[0;34m\u001b[0m\u001b[0m\n\u001b[0m",
            "\u001b[0;32m<ipython-input-23-c76cca4e19d9>\u001b[0m in \u001b[0;36mcalculate_Q_TED\u001b[0;34m(df)\u001b[0m\n\u001b[1;32m     20\u001b[0m             \u001b[0mchi\u001b[0m \u001b[0;34m=\u001b[0m \u001b[0mdf\u001b[0m\u001b[0;34m.\u001b[0m\u001b[0miloc\u001b[0m\u001b[0;34m[\u001b[0m\u001b[0mrow_index\u001b[0m\u001b[0;34m,\u001b[0m \u001b[0;36m1\u001b[0m\u001b[0;34m]\u001b[0m \u001b[0;34m*\u001b[0m \u001b[0;36m1e-9\u001b[0m \u001b[0;34m*\u001b[0m \u001b[0mnp\u001b[0m\u001b[0;34m.\u001b[0m\u001b[0msqrt\u001b[0m\u001b[0;34m(\u001b[0m\u001b[0;36m2\u001b[0m \u001b[0;34m*\u001b[0m \u001b[0;36m3.1415\u001b[0m \u001b[0;34m*\u001b[0m \u001b[0mdf\u001b[0m\u001b[0;34m.\u001b[0m\u001b[0mloc\u001b[0m\u001b[0;34m[\u001b[0m\u001b[0mdf\u001b[0m\u001b[0;34m.\u001b[0m\u001b[0mindex\u001b[0m\u001b[0;34m[\u001b[0m\u001b[0mrow_index\u001b[0m\u001b[0;34m]\u001b[0m\u001b[0;34m,\u001b[0m \u001b[0;34mf'M{mode_number} Eigenfrequency (Hz)'\u001b[0m\u001b[0;34m]\u001b[0m \u001b[0;34m/\u001b[0m \u001b[0;34m(\u001b[0m\u001b[0;36m2\u001b[0m \u001b[0;34m*\u001b[0m \u001b[0mxi_av\u001b[0m\u001b[0;34m)\u001b[0m\u001b[0;34m)\u001b[0m\u001b[0;34m\u001b[0m\u001b[0;34m\u001b[0m\u001b[0m\n\u001b[1;32m     21\u001b[0m             \u001b[0mdelta_ted\u001b[0m \u001b[0;34m=\u001b[0m \u001b[0;34m(\u001b[0m\u001b[0mE_av\u001b[0m \u001b[0;34m*\u001b[0m \u001b[0malpha_av\u001b[0m \u001b[0;34m**\u001b[0m\u001b[0;36m2\u001b[0m \u001b[0;34m*\u001b[0m \u001b[0mdf\u001b[0m\u001b[0;34m.\u001b[0m\u001b[0miloc\u001b[0m\u001b[0;34m[\u001b[0m\u001b[0mrow_index\u001b[0m\u001b[0;34m,\u001b[0m \u001b[0;36m4\u001b[0m\u001b[0;34m]\u001b[0m\u001b[0;34m)\u001b[0m \u001b[0;34m/\u001b[0m \u001b[0;34m(\u001b[0m\u001b[0mCp_av\u001b[0m \u001b[0;34m*\u001b[0m \u001b[0mrho_av\u001b[0m\u001b[0;34m)\u001b[0m \u001b[0;34m*\u001b[0m \u001b[0;34m(\u001b[0m\u001b[0;36m6\u001b[0m\u001b[0;34m/\u001b[0m\u001b[0;34m(\u001b[0m\u001b[0mchi\u001b[0m\u001b[0;34m**\u001b[0m\u001b[0;36m2\u001b[0m\u001b[0;34m)\u001b[0m \u001b[0;34m-\u001b[0m \u001b[0;36m6\u001b[0m \u001b[0;34m*\u001b[0m \u001b[0;34m(\u001b[0m\u001b[0mnp\u001b[0m\u001b[0;34m.\u001b[0m\u001b[0msinh\u001b[0m\u001b[0;34m(\u001b[0m\u001b[0mchi\u001b[0m\u001b[0;34m)\u001b[0m \u001b[0;34m+\u001b[0m \u001b[0mnp\u001b[0m\u001b[0;34m.\u001b[0m\u001b[0msin\u001b[0m\u001b[0;34m(\u001b[0m\u001b[0mchi\u001b[0m\u001b[0;34m)\u001b[0m\u001b[0;34m)\u001b[0m\u001b[0;34m/\u001b[0m\u001b[0;34m(\u001b[0m\u001b[0mchi\u001b[0m\u001b[0;34m**\u001b[0m\u001b[0;36m3\u001b[0m \u001b[0;34m*\u001b[0m \u001b[0;34m(\u001b[0m\u001b[0mnp\u001b[0m\u001b[0;34m.\u001b[0m\u001b[0mcosh\u001b[0m\u001b[0;34m(\u001b[0m\u001b[0mchi\u001b[0m\u001b[0;34m)\u001b[0m \u001b[0;34m+\u001b[0m \u001b[0mnp\u001b[0m\u001b[0;34m.\u001b[0m\u001b[0mcos\u001b[0m\u001b[0;34m(\u001b[0m\u001b[0mchi\u001b[0m\u001b[0;34m)\u001b[0m\u001b[0;34m)\u001b[0m\u001b[0;34m)\u001b[0m\u001b[0;34m)\u001b[0m\u001b[0;34m\u001b[0m\u001b[0;34m\u001b[0m\u001b[0m\n\u001b[0;32m---> 22\u001b[0;31m             \u001b[0mdf\u001b[0m\u001b[0;34m.\u001b[0m\u001b[0mloc\u001b[0m\u001b[0;34m[\u001b[0m\u001b[0mdf\u001b[0m\u001b[0;34m.\u001b[0m\u001b[0mindex\u001b[0m\u001b[0;34m[\u001b[0m\u001b[0mrow_index\u001b[0m\u001b[0;34m]\u001b[0m\u001b[0;34m,\u001b[0m \u001b[0;34mf'M{mode_number} Quality factor'\u001b[0m\u001b[0;34m]\u001b[0m \u001b[0;34m=\u001b[0m \u001b[0;36m1\u001b[0m\u001b[0;34m/\u001b[0m\u001b[0;34m(\u001b[0m\u001b[0;36m1\u001b[0m\u001b[0;34m/\u001b[0m\u001b[0mdf\u001b[0m\u001b[0;34m.\u001b[0m\u001b[0mloc\u001b[0m\u001b[0;34m[\u001b[0m\u001b[0mdf\u001b[0m\u001b[0;34m.\u001b[0m\u001b[0mindex\u001b[0m\u001b[0;34m[\u001b[0m\u001b[0mrow_index\u001b[0m\u001b[0;34m]\u001b[0m\u001b[0;34m,\u001b[0m \u001b[0;34mf'M{mode_number} Quality factor'\u001b[0m\u001b[0;34m]\u001b[0m \u001b[0;34m+\u001b[0m \u001b[0mdelta_ted\u001b[0m\u001b[0;34m)\u001b[0m\u001b[0;34m\u001b[0m\u001b[0;34m\u001b[0m\u001b[0m\n\u001b[0m\u001b[1;32m     23\u001b[0m \u001b[0;34m\u001b[0m\u001b[0m\n\u001b[1;32m     24\u001b[0m             \u001b[0mparam_history\u001b[0m\u001b[0;34m[\u001b[0m\u001b[0;34m'chi'\u001b[0m\u001b[0;34m]\u001b[0m\u001b[0;34m.\u001b[0m\u001b[0mappend\u001b[0m\u001b[0;34m(\u001b[0m\u001b[0mchi\u001b[0m\u001b[0;34m)\u001b[0m\u001b[0;34m\u001b[0m\u001b[0;34m\u001b[0m\u001b[0m\n",
            "\u001b[0;32m/usr/local/lib/python3.10/dist-packages/pandas/core/indexing.py\u001b[0m in \u001b[0;36m__getitem__\u001b[0;34m(self, key)\u001b[0m\n\u001b[1;32m   1064\u001b[0m             \u001b[0mkey\u001b[0m \u001b[0;34m=\u001b[0m \u001b[0mtuple\u001b[0m\u001b[0;34m(\u001b[0m\u001b[0mcom\u001b[0m\u001b[0;34m.\u001b[0m\u001b[0mapply_if_callable\u001b[0m\u001b[0;34m(\u001b[0m\u001b[0mx\u001b[0m\u001b[0;34m,\u001b[0m \u001b[0mself\u001b[0m\u001b[0;34m.\u001b[0m\u001b[0mobj\u001b[0m\u001b[0;34m)\u001b[0m \u001b[0;32mfor\u001b[0m \u001b[0mx\u001b[0m \u001b[0;32min\u001b[0m \u001b[0mkey\u001b[0m\u001b[0;34m)\u001b[0m\u001b[0;34m\u001b[0m\u001b[0;34m\u001b[0m\u001b[0m\n\u001b[1;32m   1065\u001b[0m             \u001b[0;32mif\u001b[0m \u001b[0mself\u001b[0m\u001b[0;34m.\u001b[0m\u001b[0m_is_scalar_access\u001b[0m\u001b[0;34m(\u001b[0m\u001b[0mkey\u001b[0m\u001b[0;34m)\u001b[0m\u001b[0;34m:\u001b[0m\u001b[0;34m\u001b[0m\u001b[0;34m\u001b[0m\u001b[0m\n\u001b[0;32m-> 1066\u001b[0;31m                 \u001b[0;32mreturn\u001b[0m \u001b[0mself\u001b[0m\u001b[0;34m.\u001b[0m\u001b[0mobj\u001b[0m\u001b[0;34m.\u001b[0m\u001b[0m_get_value\u001b[0m\u001b[0;34m(\u001b[0m\u001b[0;34m*\u001b[0m\u001b[0mkey\u001b[0m\u001b[0;34m,\u001b[0m \u001b[0mtakeable\u001b[0m\u001b[0;34m=\u001b[0m\u001b[0mself\u001b[0m\u001b[0;34m.\u001b[0m\u001b[0m_takeable\u001b[0m\u001b[0;34m)\u001b[0m\u001b[0;34m\u001b[0m\u001b[0;34m\u001b[0m\u001b[0m\n\u001b[0m\u001b[1;32m   1067\u001b[0m             \u001b[0;32mreturn\u001b[0m \u001b[0mself\u001b[0m\u001b[0;34m.\u001b[0m\u001b[0m_getitem_tuple\u001b[0m\u001b[0;34m(\u001b[0m\u001b[0mkey\u001b[0m\u001b[0;34m)\u001b[0m\u001b[0;34m\u001b[0m\u001b[0;34m\u001b[0m\u001b[0m\n\u001b[1;32m   1068\u001b[0m         \u001b[0;32melse\u001b[0m\u001b[0;34m:\u001b[0m\u001b[0;34m\u001b[0m\u001b[0;34m\u001b[0m\u001b[0m\n",
            "\u001b[0;32m/usr/local/lib/python3.10/dist-packages/pandas/core/frame.py\u001b[0m in \u001b[0;36m_get_value\u001b[0;34m(self, index, col, takeable)\u001b[0m\n\u001b[1;32m   3915\u001b[0m             \u001b[0;32mreturn\u001b[0m \u001b[0mseries\u001b[0m\u001b[0;34m.\u001b[0m\u001b[0m_values\u001b[0m\u001b[0;34m[\u001b[0m\u001b[0mindex\u001b[0m\u001b[0;34m]\u001b[0m\u001b[0;34m\u001b[0m\u001b[0;34m\u001b[0m\u001b[0m\n\u001b[1;32m   3916\u001b[0m \u001b[0;34m\u001b[0m\u001b[0m\n\u001b[0;32m-> 3917\u001b[0;31m         \u001b[0mseries\u001b[0m \u001b[0;34m=\u001b[0m \u001b[0mself\u001b[0m\u001b[0;34m.\u001b[0m\u001b[0m_get_item_cache\u001b[0m\u001b[0;34m(\u001b[0m\u001b[0mcol\u001b[0m\u001b[0;34m)\u001b[0m\u001b[0;34m\u001b[0m\u001b[0;34m\u001b[0m\u001b[0m\n\u001b[0m\u001b[1;32m   3918\u001b[0m         \u001b[0mengine\u001b[0m \u001b[0;34m=\u001b[0m \u001b[0mself\u001b[0m\u001b[0;34m.\u001b[0m\u001b[0mindex\u001b[0m\u001b[0;34m.\u001b[0m\u001b[0m_engine\u001b[0m\u001b[0;34m\u001b[0m\u001b[0;34m\u001b[0m\u001b[0m\n\u001b[1;32m   3919\u001b[0m \u001b[0;34m\u001b[0m\u001b[0m\n",
            "\u001b[0;32m/usr/local/lib/python3.10/dist-packages/pandas/core/frame.py\u001b[0m in \u001b[0;36m_get_item_cache\u001b[0;34m(self, item)\u001b[0m\n\u001b[1;32m   4280\u001b[0m             \u001b[0;31m#  pending resolution of GH#33047\u001b[0m\u001b[0;34m\u001b[0m\u001b[0;34m\u001b[0m\u001b[0m\n\u001b[1;32m   4281\u001b[0m \u001b[0;34m\u001b[0m\u001b[0m\n\u001b[0;32m-> 4282\u001b[0;31m             \u001b[0mloc\u001b[0m \u001b[0;34m=\u001b[0m \u001b[0mself\u001b[0m\u001b[0;34m.\u001b[0m\u001b[0mcolumns\u001b[0m\u001b[0;34m.\u001b[0m\u001b[0mget_loc\u001b[0m\u001b[0;34m(\u001b[0m\u001b[0mitem\u001b[0m\u001b[0;34m)\u001b[0m\u001b[0;34m\u001b[0m\u001b[0;34m\u001b[0m\u001b[0m\n\u001b[0m\u001b[1;32m   4283\u001b[0m             \u001b[0mres\u001b[0m \u001b[0;34m=\u001b[0m \u001b[0mself\u001b[0m\u001b[0;34m.\u001b[0m\u001b[0m_ixs\u001b[0m\u001b[0;34m(\u001b[0m\u001b[0mloc\u001b[0m\u001b[0;34m,\u001b[0m \u001b[0maxis\u001b[0m\u001b[0;34m=\u001b[0m\u001b[0;36m1\u001b[0m\u001b[0;34m)\u001b[0m\u001b[0;34m\u001b[0m\u001b[0;34m\u001b[0m\u001b[0m\n\u001b[1;32m   4284\u001b[0m \u001b[0;34m\u001b[0m\u001b[0m\n",
            "\u001b[0;32m/usr/local/lib/python3.10/dist-packages/pandas/core/indexes/base.py\u001b[0m in \u001b[0;36mget_loc\u001b[0;34m(self, key, method, tolerance)\u001b[0m\n\u001b[1;32m   3802\u001b[0m                 \u001b[0;32mreturn\u001b[0m \u001b[0mself\u001b[0m\u001b[0;34m.\u001b[0m\u001b[0m_engine\u001b[0m\u001b[0;34m.\u001b[0m\u001b[0mget_loc\u001b[0m\u001b[0;34m(\u001b[0m\u001b[0mcasted_key\u001b[0m\u001b[0;34m)\u001b[0m\u001b[0;34m\u001b[0m\u001b[0;34m\u001b[0m\u001b[0m\n\u001b[1;32m   3803\u001b[0m             \u001b[0;32mexcept\u001b[0m \u001b[0mKeyError\u001b[0m \u001b[0;32mas\u001b[0m \u001b[0merr\u001b[0m\u001b[0;34m:\u001b[0m\u001b[0;34m\u001b[0m\u001b[0;34m\u001b[0m\u001b[0m\n\u001b[0;32m-> 3804\u001b[0;31m                 \u001b[0;32mraise\u001b[0m \u001b[0mKeyError\u001b[0m\u001b[0;34m(\u001b[0m\u001b[0mkey\u001b[0m\u001b[0;34m)\u001b[0m \u001b[0;32mfrom\u001b[0m \u001b[0merr\u001b[0m\u001b[0;34m\u001b[0m\u001b[0;34m\u001b[0m\u001b[0m\n\u001b[0m\u001b[1;32m   3805\u001b[0m             \u001b[0;32mexcept\u001b[0m \u001b[0mTypeError\u001b[0m\u001b[0;34m:\u001b[0m\u001b[0;34m\u001b[0m\u001b[0;34m\u001b[0m\u001b[0m\n\u001b[1;32m   3806\u001b[0m                 \u001b[0;31m# If we have a listlike key, _check_indexing_error will raise\u001b[0m\u001b[0;34m\u001b[0m\u001b[0;34m\u001b[0m\u001b[0m\n",
            "\u001b[0;31mKeyError\u001b[0m: 'M1 Quality factor'"
          ]
        }
      ]
    },
    {
      "cell_type": "code",
      "source": [
        "sorted_history = sorted(history['Q_ted'])\n",
        "print(sorted_history)"
      ],
      "metadata": {
        "id": "f9yZvBy9uPTk"
      },
      "execution_count": null,
      "outputs": []
    },
    {
      "cell_type": "code",
      "source": [
        "data_ted.head()"
      ],
      "metadata": {
        "id": "ARfflFBlJlIH"
      },
      "execution_count": null,
      "outputs": []
    }
  ]
}